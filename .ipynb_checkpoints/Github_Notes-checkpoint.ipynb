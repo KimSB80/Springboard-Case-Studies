{
 "cells": [
  {
   "cell_type": "markdown",
   "id": "5054a5a4-5e4d-4d3c-8ed5-529cc1c9a2f7",
   "metadata": {},
   "source": [
    "Importing Data to Python"
   ]
  }
 ],
 "metadata": {
  "kernelspec": {
   "display_name": "Python 3 (ipykernel)",
   "language": "python",
   "name": "python3"
  },
  "language_info": {
   "codemirror_mode": {
    "name": "ipython",
    "version": 3
   },
   "file_extension": ".py",
   "mimetype": "text/x-python",
   "name": "python",
   "nbconvert_exporter": "python",
   "pygments_lexer": "ipython3",
   "version": "3.9.13"
  }
 },
 "nbformat": 4,
 "nbformat_minor": 5
}
