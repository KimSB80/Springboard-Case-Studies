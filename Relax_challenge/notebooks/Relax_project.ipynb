{
 "cells": [
  {
   "cell_type": "markdown",
   "id": "352ffcea-9e26-48ca-9e3a-8e75e0f36571",
   "metadata": {},
   "source": [
    "### Load data and import packages"
   ]
  },
  {
   "cell_type": "code",
   "execution_count": 1,
   "id": "20c46a51-13eb-4157-af89-375d0fa9df50",
   "metadata": {
    "tags": []
   },
   "outputs": [],
   "source": [
    "import os\n",
    "import numpy as np\n",
    "import pandas as pd\n",
    "import seaborn as sns\n",
    "import matplotlib.pyplot as plt\n",
    "\n",
    "import sklearn"
   ]
  },
  {
   "cell_type": "code",
   "execution_count": 2,
   "id": "470d115e-c519-451e-a7d3-2e20dc4d6523",
   "metadata": {
    "tags": []
   },
   "outputs": [
    {
     "data": {
      "text/html": [
       "<div>\n",
       "<style scoped>\n",
       "    .dataframe tbody tr th:only-of-type {\n",
       "        vertical-align: middle;\n",
       "    }\n",
       "\n",
       "    .dataframe tbody tr th {\n",
       "        vertical-align: top;\n",
       "    }\n",
       "\n",
       "    .dataframe thead th {\n",
       "        text-align: right;\n",
       "    }\n",
       "</style>\n",
       "<table border=\"1\" class=\"dataframe\">\n",
       "  <thead>\n",
       "    <tr style=\"text-align: right;\">\n",
       "      <th></th>\n",
       "      <th>object_id</th>\n",
       "      <th>creation_time</th>\n",
       "      <th>name</th>\n",
       "      <th>email</th>\n",
       "      <th>creation_source</th>\n",
       "      <th>last_session_creation_time</th>\n",
       "      <th>opted_in_to_mailing_list</th>\n",
       "      <th>enabled_for_marketing_drip</th>\n",
       "      <th>org_id</th>\n",
       "      <th>invited_by_user_id</th>\n",
       "    </tr>\n",
       "  </thead>\n",
       "  <tbody>\n",
       "    <tr>\n",
       "      <th>0</th>\n",
       "      <td>1</td>\n",
       "      <td>2014-04-22 03:53:30</td>\n",
       "      <td>Clausen August</td>\n",
       "      <td>AugustCClausen@yahoo.com</td>\n",
       "      <td>GUEST_INVITE</td>\n",
       "      <td>1.398139e+09</td>\n",
       "      <td>1</td>\n",
       "      <td>0</td>\n",
       "      <td>11</td>\n",
       "      <td>10803.0</td>\n",
       "    </tr>\n",
       "    <tr>\n",
       "      <th>1</th>\n",
       "      <td>2</td>\n",
       "      <td>2013-11-15 03:45:04</td>\n",
       "      <td>Poole Matthew</td>\n",
       "      <td>MatthewPoole@gustr.com</td>\n",
       "      <td>ORG_INVITE</td>\n",
       "      <td>1.396238e+09</td>\n",
       "      <td>0</td>\n",
       "      <td>0</td>\n",
       "      <td>1</td>\n",
       "      <td>316.0</td>\n",
       "    </tr>\n",
       "    <tr>\n",
       "      <th>2</th>\n",
       "      <td>3</td>\n",
       "      <td>2013-03-19 23:14:52</td>\n",
       "      <td>Bottrill Mitchell</td>\n",
       "      <td>MitchellBottrill@gustr.com</td>\n",
       "      <td>ORG_INVITE</td>\n",
       "      <td>1.363735e+09</td>\n",
       "      <td>0</td>\n",
       "      <td>0</td>\n",
       "      <td>94</td>\n",
       "      <td>1525.0</td>\n",
       "    </tr>\n",
       "    <tr>\n",
       "      <th>3</th>\n",
       "      <td>4</td>\n",
       "      <td>2013-05-21 08:09:28</td>\n",
       "      <td>Clausen Nicklas</td>\n",
       "      <td>NicklasSClausen@yahoo.com</td>\n",
       "      <td>GUEST_INVITE</td>\n",
       "      <td>1.369210e+09</td>\n",
       "      <td>0</td>\n",
       "      <td>0</td>\n",
       "      <td>1</td>\n",
       "      <td>5151.0</td>\n",
       "    </tr>\n",
       "    <tr>\n",
       "      <th>4</th>\n",
       "      <td>5</td>\n",
       "      <td>2013-01-17 10:14:20</td>\n",
       "      <td>Raw Grace</td>\n",
       "      <td>GraceRaw@yahoo.com</td>\n",
       "      <td>GUEST_INVITE</td>\n",
       "      <td>1.358850e+09</td>\n",
       "      <td>0</td>\n",
       "      <td>0</td>\n",
       "      <td>193</td>\n",
       "      <td>5240.0</td>\n",
       "    </tr>\n",
       "  </tbody>\n",
       "</table>\n",
       "</div>"
      ],
      "text/plain": [
       "   object_id        creation_time               name  \\\n",
       "0          1  2014-04-22 03:53:30     Clausen August   \n",
       "1          2  2013-11-15 03:45:04      Poole Matthew   \n",
       "2          3  2013-03-19 23:14:52  Bottrill Mitchell   \n",
       "3          4  2013-05-21 08:09:28    Clausen Nicklas   \n",
       "4          5  2013-01-17 10:14:20          Raw Grace   \n",
       "\n",
       "                        email creation_source  last_session_creation_time  \\\n",
       "0    AugustCClausen@yahoo.com    GUEST_INVITE                1.398139e+09   \n",
       "1      MatthewPoole@gustr.com      ORG_INVITE                1.396238e+09   \n",
       "2  MitchellBottrill@gustr.com      ORG_INVITE                1.363735e+09   \n",
       "3   NicklasSClausen@yahoo.com    GUEST_INVITE                1.369210e+09   \n",
       "4          GraceRaw@yahoo.com    GUEST_INVITE                1.358850e+09   \n",
       "\n",
       "   opted_in_to_mailing_list  enabled_for_marketing_drip  org_id  \\\n",
       "0                         1                           0      11   \n",
       "1                         0                           0       1   \n",
       "2                         0                           0      94   \n",
       "3                         0                           0       1   \n",
       "4                         0                           0     193   \n",
       "\n",
       "   invited_by_user_id  \n",
       "0             10803.0  \n",
       "1               316.0  \n",
       "2              1525.0  \n",
       "3              5151.0  \n",
       "4              5240.0  "
      ]
     },
     "execution_count": 2,
     "metadata": {},
     "output_type": "execute_result"
    }
   ],
   "source": [
    "users = pd.read_csv('../takehome_users.csv', encoding='ISO-8859-1')\n",
    "users.head()"
   ]
  },
  {
   "cell_type": "markdown",
   "id": "88630370-62d8-4b60-a3bb-3586e2c80938",
   "metadata": {},
   "source": [
    "## Part 1 - Data Wrangling"
   ]
  },
  {
   "cell_type": "markdown",
   "id": "7157d4c3-4a61-4aea-afa9-d2b49d3d6539",
   "metadata": {},
   "source": [
    "#### Check data for:\n",
    "1. missing values\n",
    "2. non-sensical values\n",
    "3. duplicate values"
   ]
  },
  {
   "cell_type": "code",
   "execution_count": 3,
   "id": "537a6174-fd5e-46fe-a180-bef0baf4080a",
   "metadata": {
    "tags": []
   },
   "outputs": [
    {
     "name": "stdout",
     "output_type": "stream",
     "text": [
      "<class 'pandas.core.frame.DataFrame'>\n",
      "RangeIndex: 12000 entries, 0 to 11999\n",
      "Data columns (total 10 columns):\n",
      " #   Column                      Non-Null Count  Dtype  \n",
      "---  ------                      --------------  -----  \n",
      " 0   object_id                   12000 non-null  int64  \n",
      " 1   creation_time               12000 non-null  object \n",
      " 2   name                        12000 non-null  object \n",
      " 3   email                       12000 non-null  object \n",
      " 4   creation_source             12000 non-null  object \n",
      " 5   last_session_creation_time  8823 non-null   float64\n",
      " 6   opted_in_to_mailing_list    12000 non-null  int64  \n",
      " 7   enabled_for_marketing_drip  12000 non-null  int64  \n",
      " 8   org_id                      12000 non-null  int64  \n",
      " 9   invited_by_user_id          6417 non-null   float64\n",
      "dtypes: float64(2), int64(4), object(4)\n",
      "memory usage: 937.6+ KB\n"
     ]
    }
   ],
   "source": [
    "users.info()"
   ]
  },
  {
   "cell_type": "markdown",
   "id": "13f3807b-e30e-49a1-bd0c-bbc21f438290",
   "metadata": {},
   "source": [
    "The data has some missing values in two columns that will have to be examined. "
   ]
  },
  {
   "cell_type": "code",
   "execution_count": 4,
   "id": "70e083fe-ae43-436f-8fda-3fe54c1f3ccd",
   "metadata": {
    "tags": []
   },
   "outputs": [],
   "source": [
    "## First convert 'creation_time' to datetime object\n",
    "users['creation_time'] = pd.to_datetime(users['creation_time'])\n",
    "#users.info()"
   ]
  },
  {
   "cell_type": "code",
   "execution_count": 5,
   "id": "e2270924-f87a-4516-92ed-bdde88bb59d5",
   "metadata": {
    "tags": []
   },
   "outputs": [
    {
     "data": {
      "text/html": [
       "<div>\n",
       "<style scoped>\n",
       "    .dataframe tbody tr th:only-of-type {\n",
       "        vertical-align: middle;\n",
       "    }\n",
       "\n",
       "    .dataframe tbody tr th {\n",
       "        vertical-align: top;\n",
       "    }\n",
       "\n",
       "    .dataframe thead th {\n",
       "        text-align: right;\n",
       "    }\n",
       "</style>\n",
       "<table border=\"1\" class=\"dataframe\">\n",
       "  <thead>\n",
       "    <tr style=\"text-align: right;\">\n",
       "      <th></th>\n",
       "      <th>object_id</th>\n",
       "      <th>creation_time</th>\n",
       "      <th>name</th>\n",
       "      <th>email</th>\n",
       "      <th>creation_source</th>\n",
       "      <th>last_session_creation_time</th>\n",
       "      <th>opted_in_to_mailing_list</th>\n",
       "      <th>enabled_for_marketing_drip</th>\n",
       "      <th>org_id</th>\n",
       "      <th>invited_by_user_id</th>\n",
       "    </tr>\n",
       "  </thead>\n",
       "  <tbody>\n",
       "    <tr>\n",
       "      <th>6</th>\n",
       "      <td>7</td>\n",
       "      <td>2012-12-16 13:24:32</td>\n",
       "      <td>Sewell Tyler</td>\n",
       "      <td>TylerSewell@jourrapide.com</td>\n",
       "      <td>SIGNUP</td>\n",
       "      <td>1.356010e+09</td>\n",
       "      <td>0</td>\n",
       "      <td>1</td>\n",
       "      <td>37</td>\n",
       "      <td>NaN</td>\n",
       "    </tr>\n",
       "    <tr>\n",
       "      <th>7</th>\n",
       "      <td>8</td>\n",
       "      <td>2013-07-31 05:34:02</td>\n",
       "      <td>Hamilton Danielle</td>\n",
       "      <td>DanielleHamilton@yahoo.com</td>\n",
       "      <td>PERSONAL_PROJECTS</td>\n",
       "      <td>NaN</td>\n",
       "      <td>1</td>\n",
       "      <td>1</td>\n",
       "      <td>74</td>\n",
       "      <td>NaN</td>\n",
       "    </tr>\n",
       "    <tr>\n",
       "      <th>8</th>\n",
       "      <td>9</td>\n",
       "      <td>2013-11-05 04:04:24</td>\n",
       "      <td>Amsel Paul</td>\n",
       "      <td>PaulAmsel@hotmail.com</td>\n",
       "      <td>PERSONAL_PROJECTS</td>\n",
       "      <td>NaN</td>\n",
       "      <td>0</td>\n",
       "      <td>0</td>\n",
       "      <td>302</td>\n",
       "      <td>NaN</td>\n",
       "    </tr>\n",
       "    <tr>\n",
       "      <th>10</th>\n",
       "      <td>11</td>\n",
       "      <td>2013-12-26 03:55:54</td>\n",
       "      <td>Paulsen Malthe</td>\n",
       "      <td>MaltheAPaulsen@gustr.com</td>\n",
       "      <td>SIGNUP</td>\n",
       "      <td>1.388117e+09</td>\n",
       "      <td>0</td>\n",
       "      <td>0</td>\n",
       "      <td>69</td>\n",
       "      <td>NaN</td>\n",
       "    </tr>\n",
       "    <tr>\n",
       "      <th>13</th>\n",
       "      <td>14</td>\n",
       "      <td>2012-10-11 16:14:33</td>\n",
       "      <td>Rivera Bret</td>\n",
       "      <td>BretKRivera@gmail.com</td>\n",
       "      <td>SIGNUP</td>\n",
       "      <td>1.350058e+09</td>\n",
       "      <td>0</td>\n",
       "      <td>0</td>\n",
       "      <td>0</td>\n",
       "      <td>NaN</td>\n",
       "    </tr>\n",
       "  </tbody>\n",
       "</table>\n",
       "</div>"
      ],
      "text/plain": [
       "    object_id       creation_time               name  \\\n",
       "6           7 2012-12-16 13:24:32       Sewell Tyler   \n",
       "7           8 2013-07-31 05:34:02  Hamilton Danielle   \n",
       "8           9 2013-11-05 04:04:24         Amsel Paul   \n",
       "10         11 2013-12-26 03:55:54     Paulsen Malthe   \n",
       "13         14 2012-10-11 16:14:33        Rivera Bret   \n",
       "\n",
       "                         email    creation_source  last_session_creation_time  \\\n",
       "6   TylerSewell@jourrapide.com             SIGNUP                1.356010e+09   \n",
       "7   DanielleHamilton@yahoo.com  PERSONAL_PROJECTS                         NaN   \n",
       "8        PaulAmsel@hotmail.com  PERSONAL_PROJECTS                         NaN   \n",
       "10    MaltheAPaulsen@gustr.com             SIGNUP                1.388117e+09   \n",
       "13       BretKRivera@gmail.com             SIGNUP                1.350058e+09   \n",
       "\n",
       "    opted_in_to_mailing_list  enabled_for_marketing_drip  org_id  \\\n",
       "6                          0                           1      37   \n",
       "7                          1                           1      74   \n",
       "8                          0                           0     302   \n",
       "10                         0                           0      69   \n",
       "13                         0                           0       0   \n",
       "\n",
       "    invited_by_user_id  \n",
       "6                  NaN  \n",
       "7                  NaN  \n",
       "8                  NaN  \n",
       "10                 NaN  \n",
       "13                 NaN  "
      ]
     },
     "execution_count": 5,
     "metadata": {},
     "output_type": "execute_result"
    }
   ],
   "source": [
    "# Examine missing values for 'invited_by_user_id' \n",
    "temp = users[users['invited_by_user_id'].isna()]\n",
    "temp.head()"
   ]
  },
  {
   "cell_type": "code",
   "execution_count": 6,
   "id": "479e5133-306f-476b-9199-a139940aca5c",
   "metadata": {
    "tags": []
   },
   "outputs": [
    {
     "data": {
      "text/html": [
       "<div>\n",
       "<style scoped>\n",
       "    .dataframe tbody tr th:only-of-type {\n",
       "        vertical-align: middle;\n",
       "    }\n",
       "\n",
       "    .dataframe tbody tr th {\n",
       "        vertical-align: top;\n",
       "    }\n",
       "\n",
       "    .dataframe thead th {\n",
       "        text-align: right;\n",
       "    }\n",
       "</style>\n",
       "<table border=\"1\" class=\"dataframe\">\n",
       "  <thead>\n",
       "    <tr style=\"text-align: right;\">\n",
       "      <th></th>\n",
       "      <th>object_id</th>\n",
       "      <th>creation_time</th>\n",
       "      <th>name</th>\n",
       "      <th>email</th>\n",
       "      <th>creation_source</th>\n",
       "      <th>last_session_creation_time</th>\n",
       "      <th>opted_in_to_mailing_list</th>\n",
       "      <th>enabled_for_marketing_drip</th>\n",
       "      <th>org_id</th>\n",
       "      <th>invited_by_user_id</th>\n",
       "    </tr>\n",
       "  </thead>\n",
       "  <tbody>\n",
       "    <tr>\n",
       "      <th>7</th>\n",
       "      <td>8</td>\n",
       "      <td>2013-07-31 05:34:02</td>\n",
       "      <td>Hamilton Danielle</td>\n",
       "      <td>DanielleHamilton@yahoo.com</td>\n",
       "      <td>PERSONAL_PROJECTS</td>\n",
       "      <td>NaN</td>\n",
       "      <td>1</td>\n",
       "      <td>1</td>\n",
       "      <td>74</td>\n",
       "      <td>NaN</td>\n",
       "    </tr>\n",
       "    <tr>\n",
       "      <th>8</th>\n",
       "      <td>9</td>\n",
       "      <td>2013-11-05 04:04:24</td>\n",
       "      <td>Amsel Paul</td>\n",
       "      <td>PaulAmsel@hotmail.com</td>\n",
       "      <td>PERSONAL_PROJECTS</td>\n",
       "      <td>NaN</td>\n",
       "      <td>0</td>\n",
       "      <td>0</td>\n",
       "      <td>302</td>\n",
       "      <td>NaN</td>\n",
       "    </tr>\n",
       "    <tr>\n",
       "      <th>11</th>\n",
       "      <td>12</td>\n",
       "      <td>2014-04-17 23:48:38</td>\n",
       "      <td>Mathiesen Lærke</td>\n",
       "      <td>LaerkeLMathiesen@cuvox.de</td>\n",
       "      <td>ORG_INVITE</td>\n",
       "      <td>NaN</td>\n",
       "      <td>0</td>\n",
       "      <td>0</td>\n",
       "      <td>130</td>\n",
       "      <td>9270.0</td>\n",
       "    </tr>\n",
       "    <tr>\n",
       "      <th>14</th>\n",
       "      <td>15</td>\n",
       "      <td>2013-07-16 21:33:54</td>\n",
       "      <td>Theiss Ralf</td>\n",
       "      <td>RalfTheiss@hotmail.com</td>\n",
       "      <td>PERSONAL_PROJECTS</td>\n",
       "      <td>NaN</td>\n",
       "      <td>0</td>\n",
       "      <td>0</td>\n",
       "      <td>175</td>\n",
       "      <td>NaN</td>\n",
       "    </tr>\n",
       "    <tr>\n",
       "      <th>15</th>\n",
       "      <td>16</td>\n",
       "      <td>2013-02-11 10:09:50</td>\n",
       "      <td>Engel René</td>\n",
       "      <td>ReneEngel@hotmail.com</td>\n",
       "      <td>PERSONAL_PROJECTS</td>\n",
       "      <td>NaN</td>\n",
       "      <td>0</td>\n",
       "      <td>0</td>\n",
       "      <td>211</td>\n",
       "      <td>NaN</td>\n",
       "    </tr>\n",
       "  </tbody>\n",
       "</table>\n",
       "</div>"
      ],
      "text/plain": [
       "    object_id       creation_time               name  \\\n",
       "7           8 2013-07-31 05:34:02  Hamilton Danielle   \n",
       "8           9 2013-11-05 04:04:24         Amsel Paul   \n",
       "11         12 2014-04-17 23:48:38    Mathiesen Lærke   \n",
       "14         15 2013-07-16 21:33:54        Theiss Ralf   \n",
       "15         16 2013-02-11 10:09:50         Engel René   \n",
       "\n",
       "                         email    creation_source  last_session_creation_time  \\\n",
       "7   DanielleHamilton@yahoo.com  PERSONAL_PROJECTS                         NaN   \n",
       "8        PaulAmsel@hotmail.com  PERSONAL_PROJECTS                         NaN   \n",
       "11   LaerkeLMathiesen@cuvox.de         ORG_INVITE                         NaN   \n",
       "14      RalfTheiss@hotmail.com  PERSONAL_PROJECTS                         NaN   \n",
       "15       ReneEngel@hotmail.com  PERSONAL_PROJECTS                         NaN   \n",
       "\n",
       "    opted_in_to_mailing_list  enabled_for_marketing_drip  org_id  \\\n",
       "7                          1                           1      74   \n",
       "8                          0                           0     302   \n",
       "11                         0                           0     130   \n",
       "14                         0                           0     175   \n",
       "15                         0                           0     211   \n",
       "\n",
       "    invited_by_user_id  \n",
       "7                  NaN  \n",
       "8                  NaN  \n",
       "11              9270.0  \n",
       "14                 NaN  \n",
       "15                 NaN  "
      ]
     },
     "execution_count": 6,
     "metadata": {},
     "output_type": "execute_result"
    }
   ],
   "source": [
    "# Examine missing values for 'invited_by_user_id' \n",
    "temp2 = users[users['last_session_creation_time'].isna()]\n",
    "temp2.head()"
   ]
  },
  {
   "cell_type": "markdown",
   "id": "6897c6b6-7c89-47a7-8abb-47cc537aaaca",
   "metadata": {},
   "source": [
    "#### Handling missing values"
   ]
  },
  {
   "cell_type": "code",
   "execution_count": 7,
   "id": "92114c3a-90cf-41ec-ab2f-49529cc704d6",
   "metadata": {
    "tags": []
   },
   "outputs": [],
   "source": [
    "# create an 'unknown' placeholder value for 'invited_by_user_id' \n",
    "# Since we do not know who invited this person to join, an 'unknown' value makes sense here \n",
    "users['invited_by_user_id'].fillna('Unknown', inplace=True)"
   ]
  },
  {
   "cell_type": "code",
   "execution_count": 8,
   "id": "bb4fdbfb-683c-42cd-8d35-463bec66e5c1",
   "metadata": {
    "tags": []
   },
   "outputs": [
    {
     "name": "stdout",
     "output_type": "stream",
     "text": [
      "<class 'pandas.core.frame.DataFrame'>\n",
      "RangeIndex: 12000 entries, 0 to 11999\n",
      "Data columns (total 10 columns):\n",
      " #   Column                      Non-Null Count  Dtype         \n",
      "---  ------                      --------------  -----         \n",
      " 0   object_id                   12000 non-null  int64         \n",
      " 1   creation_time               12000 non-null  datetime64[ns]\n",
      " 2   name                        12000 non-null  object        \n",
      " 3   email                       12000 non-null  object        \n",
      " 4   creation_source             12000 non-null  object        \n",
      " 5   last_session_creation_time  8823 non-null   float64       \n",
      " 6   opted_in_to_mailing_list    12000 non-null  int64         \n",
      " 7   enabled_for_marketing_drip  12000 non-null  int64         \n",
      " 8   org_id                      12000 non-null  int64         \n",
      " 9   invited_by_user_id          12000 non-null  object        \n",
      "dtypes: datetime64[ns](1), float64(1), int64(4), object(4)\n",
      "memory usage: 937.6+ KB\n"
     ]
    }
   ],
   "source": [
    "users.info()"
   ]
  },
  {
   "cell_type": "markdown",
   "id": "790f3ae1-40c2-4e7b-8e2a-ee8bbcf59ada",
   "metadata": {},
   "source": [
    "#### Convert columns to correct data type"
   ]
  },
  {
   "cell_type": "markdown",
   "id": "fe5da573-a6ab-45f6-a918-b93213c55914",
   "metadata": {},
   "source": [
    "I'll need to convert the 'last_session_creation_time' to datetime object."
   ]
  },
  {
   "cell_type": "code",
   "execution_count": 9,
   "id": "46a97686-0ee0-4a73-b5e7-5444d53bb8f6",
   "metadata": {
    "tags": []
   },
   "outputs": [],
   "source": [
    "# replace 'last_session_creation_time' NaT with a placeholder 0 \n",
    "users['last_session_creation_time'].fillna(0, inplace=True)"
   ]
  },
  {
   "cell_type": "code",
   "execution_count": 10,
   "id": "06f4246d-7348-4198-9c04-8116da352cdf",
   "metadata": {
    "tags": []
   },
   "outputs": [
    {
     "data": {
      "text/html": [
       "<div>\n",
       "<style scoped>\n",
       "    .dataframe tbody tr th:only-of-type {\n",
       "        vertical-align: middle;\n",
       "    }\n",
       "\n",
       "    .dataframe tbody tr th {\n",
       "        vertical-align: top;\n",
       "    }\n",
       "\n",
       "    .dataframe thead th {\n",
       "        text-align: right;\n",
       "    }\n",
       "</style>\n",
       "<table border=\"1\" class=\"dataframe\">\n",
       "  <thead>\n",
       "    <tr style=\"text-align: right;\">\n",
       "      <th></th>\n",
       "      <th>object_id</th>\n",
       "      <th>creation_time</th>\n",
       "      <th>name</th>\n",
       "      <th>email</th>\n",
       "      <th>creation_source</th>\n",
       "      <th>last_session_creation_time</th>\n",
       "      <th>opted_in_to_mailing_list</th>\n",
       "      <th>enabled_for_marketing_drip</th>\n",
       "      <th>org_id</th>\n",
       "      <th>invited_by_user_id</th>\n",
       "    </tr>\n",
       "  </thead>\n",
       "  <tbody>\n",
       "    <tr>\n",
       "      <th>0</th>\n",
       "      <td>1</td>\n",
       "      <td>2014-04-22 03:53:30</td>\n",
       "      <td>Clausen August</td>\n",
       "      <td>AugustCClausen@yahoo.com</td>\n",
       "      <td>GUEST_INVITE</td>\n",
       "      <td>2014-04-22 03:53:30</td>\n",
       "      <td>1</td>\n",
       "      <td>0</td>\n",
       "      <td>11</td>\n",
       "      <td>10803.0</td>\n",
       "    </tr>\n",
       "    <tr>\n",
       "      <th>1</th>\n",
       "      <td>2</td>\n",
       "      <td>2013-11-15 03:45:04</td>\n",
       "      <td>Poole Matthew</td>\n",
       "      <td>MatthewPoole@gustr.com</td>\n",
       "      <td>ORG_INVITE</td>\n",
       "      <td>2014-03-31 03:45:04</td>\n",
       "      <td>0</td>\n",
       "      <td>0</td>\n",
       "      <td>1</td>\n",
       "      <td>316.0</td>\n",
       "    </tr>\n",
       "    <tr>\n",
       "      <th>2</th>\n",
       "      <td>3</td>\n",
       "      <td>2013-03-19 23:14:52</td>\n",
       "      <td>Bottrill Mitchell</td>\n",
       "      <td>MitchellBottrill@gustr.com</td>\n",
       "      <td>ORG_INVITE</td>\n",
       "      <td>2013-03-19 23:14:52</td>\n",
       "      <td>0</td>\n",
       "      <td>0</td>\n",
       "      <td>94</td>\n",
       "      <td>1525.0</td>\n",
       "    </tr>\n",
       "    <tr>\n",
       "      <th>3</th>\n",
       "      <td>4</td>\n",
       "      <td>2013-05-21 08:09:28</td>\n",
       "      <td>Clausen Nicklas</td>\n",
       "      <td>NicklasSClausen@yahoo.com</td>\n",
       "      <td>GUEST_INVITE</td>\n",
       "      <td>2013-05-22 08:09:28</td>\n",
       "      <td>0</td>\n",
       "      <td>0</td>\n",
       "      <td>1</td>\n",
       "      <td>5151.0</td>\n",
       "    </tr>\n",
       "    <tr>\n",
       "      <th>4</th>\n",
       "      <td>5</td>\n",
       "      <td>2013-01-17 10:14:20</td>\n",
       "      <td>Raw Grace</td>\n",
       "      <td>GraceRaw@yahoo.com</td>\n",
       "      <td>GUEST_INVITE</td>\n",
       "      <td>2013-01-22 10:14:20</td>\n",
       "      <td>0</td>\n",
       "      <td>0</td>\n",
       "      <td>193</td>\n",
       "      <td>5240.0</td>\n",
       "    </tr>\n",
       "    <tr>\n",
       "      <th>5</th>\n",
       "      <td>6</td>\n",
       "      <td>2013-12-17 03:37:06</td>\n",
       "      <td>Cunha Eduardo</td>\n",
       "      <td>EduardoPereiraCunha@yahoo.com</td>\n",
       "      <td>GUEST_INVITE</td>\n",
       "      <td>2013-12-19 03:37:06</td>\n",
       "      <td>0</td>\n",
       "      <td>0</td>\n",
       "      <td>197</td>\n",
       "      <td>11241.0</td>\n",
       "    </tr>\n",
       "    <tr>\n",
       "      <th>6</th>\n",
       "      <td>7</td>\n",
       "      <td>2012-12-16 13:24:32</td>\n",
       "      <td>Sewell Tyler</td>\n",
       "      <td>TylerSewell@jourrapide.com</td>\n",
       "      <td>SIGNUP</td>\n",
       "      <td>2012-12-20 13:24:32</td>\n",
       "      <td>0</td>\n",
       "      <td>1</td>\n",
       "      <td>37</td>\n",
       "      <td>Unknown</td>\n",
       "    </tr>\n",
       "    <tr>\n",
       "      <th>7</th>\n",
       "      <td>8</td>\n",
       "      <td>2013-07-31 05:34:02</td>\n",
       "      <td>Hamilton Danielle</td>\n",
       "      <td>DanielleHamilton@yahoo.com</td>\n",
       "      <td>PERSONAL_PROJECTS</td>\n",
       "      <td>1970-01-01 00:00:00</td>\n",
       "      <td>1</td>\n",
       "      <td>1</td>\n",
       "      <td>74</td>\n",
       "      <td>Unknown</td>\n",
       "    </tr>\n",
       "    <tr>\n",
       "      <th>8</th>\n",
       "      <td>9</td>\n",
       "      <td>2013-11-05 04:04:24</td>\n",
       "      <td>Amsel Paul</td>\n",
       "      <td>PaulAmsel@hotmail.com</td>\n",
       "      <td>PERSONAL_PROJECTS</td>\n",
       "      <td>1970-01-01 00:00:00</td>\n",
       "      <td>0</td>\n",
       "      <td>0</td>\n",
       "      <td>302</td>\n",
       "      <td>Unknown</td>\n",
       "    </tr>\n",
       "    <tr>\n",
       "      <th>9</th>\n",
       "      <td>10</td>\n",
       "      <td>2013-01-16 22:08:03</td>\n",
       "      <td>Santos Carla</td>\n",
       "      <td>CarlaFerreiraSantos@gustr.com</td>\n",
       "      <td>ORG_INVITE</td>\n",
       "      <td>2014-06-03 22:08:03</td>\n",
       "      <td>1</td>\n",
       "      <td>1</td>\n",
       "      <td>318</td>\n",
       "      <td>4143.0</td>\n",
       "    </tr>\n",
       "    <tr>\n",
       "      <th>10</th>\n",
       "      <td>11</td>\n",
       "      <td>2013-12-26 03:55:54</td>\n",
       "      <td>Paulsen Malthe</td>\n",
       "      <td>MaltheAPaulsen@gustr.com</td>\n",
       "      <td>SIGNUP</td>\n",
       "      <td>2013-12-27 03:55:54</td>\n",
       "      <td>0</td>\n",
       "      <td>0</td>\n",
       "      <td>69</td>\n",
       "      <td>Unknown</td>\n",
       "    </tr>\n",
       "    <tr>\n",
       "      <th>11</th>\n",
       "      <td>12</td>\n",
       "      <td>2014-04-17 23:48:38</td>\n",
       "      <td>Mathiesen Lærke</td>\n",
       "      <td>LaerkeLMathiesen@cuvox.de</td>\n",
       "      <td>ORG_INVITE</td>\n",
       "      <td>1970-01-01 00:00:00</td>\n",
       "      <td>0</td>\n",
       "      <td>0</td>\n",
       "      <td>130</td>\n",
       "      <td>9270.0</td>\n",
       "    </tr>\n",
       "    <tr>\n",
       "      <th>12</th>\n",
       "      <td>13</td>\n",
       "      <td>2014-03-30 16:19:38</td>\n",
       "      <td>Fry Alexander</td>\n",
       "      <td>AlexanderDFry@cuvox.de</td>\n",
       "      <td>ORG_INVITE</td>\n",
       "      <td>2014-03-30 16:19:38</td>\n",
       "      <td>0</td>\n",
       "      <td>0</td>\n",
       "      <td>254</td>\n",
       "      <td>11204.0</td>\n",
       "    </tr>\n",
       "    <tr>\n",
       "      <th>13</th>\n",
       "      <td>14</td>\n",
       "      <td>2012-10-11 16:14:33</td>\n",
       "      <td>Rivera Bret</td>\n",
       "      <td>BretKRivera@gmail.com</td>\n",
       "      <td>SIGNUP</td>\n",
       "      <td>2012-10-12 16:14:33</td>\n",
       "      <td>0</td>\n",
       "      <td>0</td>\n",
       "      <td>0</td>\n",
       "      <td>Unknown</td>\n",
       "    </tr>\n",
       "    <tr>\n",
       "      <th>14</th>\n",
       "      <td>15</td>\n",
       "      <td>2013-07-16 21:33:54</td>\n",
       "      <td>Theiss Ralf</td>\n",
       "      <td>RalfTheiss@hotmail.com</td>\n",
       "      <td>PERSONAL_PROJECTS</td>\n",
       "      <td>1970-01-01 00:00:00</td>\n",
       "      <td>0</td>\n",
       "      <td>0</td>\n",
       "      <td>175</td>\n",
       "      <td>Unknown</td>\n",
       "    </tr>\n",
       "    <tr>\n",
       "      <th>15</th>\n",
       "      <td>16</td>\n",
       "      <td>2013-02-11 10:09:50</td>\n",
       "      <td>Engel René</td>\n",
       "      <td>ReneEngel@hotmail.com</td>\n",
       "      <td>PERSONAL_PROJECTS</td>\n",
       "      <td>1970-01-01 00:00:00</td>\n",
       "      <td>0</td>\n",
       "      <td>0</td>\n",
       "      <td>211</td>\n",
       "      <td>Unknown</td>\n",
       "    </tr>\n",
       "    <tr>\n",
       "      <th>16</th>\n",
       "      <td>17</td>\n",
       "      <td>2014-04-09 14:39:38</td>\n",
       "      <td>Reynolds Anthony</td>\n",
       "      <td>AnthonyReynolds@jourrapide.com</td>\n",
       "      <td>GUEST_INVITE</td>\n",
       "      <td>2014-04-12 14:39:38</td>\n",
       "      <td>1</td>\n",
       "      <td>0</td>\n",
       "      <td>175</td>\n",
       "      <td>1600.0</td>\n",
       "    </tr>\n",
       "    <tr>\n",
       "      <th>17</th>\n",
       "      <td>18</td>\n",
       "      <td>2013-08-24 00:26:46</td>\n",
       "      <td>Gregersen Celina</td>\n",
       "      <td>CelinaAGregersen@jourrapide.com</td>\n",
       "      <td>GUEST_INVITE</td>\n",
       "      <td>1970-01-01 00:00:00</td>\n",
       "      <td>0</td>\n",
       "      <td>0</td>\n",
       "      <td>2</td>\n",
       "      <td>3153.0</td>\n",
       "    </tr>\n",
       "    <tr>\n",
       "      <th>18</th>\n",
       "      <td>19</td>\n",
       "      <td>2013-05-24 14:56:36</td>\n",
       "      <td>Collins Arlene</td>\n",
       "      <td>ArleneRCollins@gmail.com</td>\n",
       "      <td>SIGNUP</td>\n",
       "      <td>2013-05-30 14:56:36</td>\n",
       "      <td>1</td>\n",
       "      <td>0</td>\n",
       "      <td>0</td>\n",
       "      <td>Unknown</td>\n",
       "    </tr>\n",
       "    <tr>\n",
       "      <th>19</th>\n",
       "      <td>20</td>\n",
       "      <td>2014-03-06 11:46:38</td>\n",
       "      <td>Helms Mikayla</td>\n",
       "      <td>lqyvjilf@uhzdq.com</td>\n",
       "      <td>SIGNUP</td>\n",
       "      <td>2014-05-29 11:46:38</td>\n",
       "      <td>0</td>\n",
       "      <td>0</td>\n",
       "      <td>58</td>\n",
       "      <td>Unknown</td>\n",
       "    </tr>\n",
       "  </tbody>\n",
       "</table>\n",
       "</div>"
      ],
      "text/plain": [
       "    object_id       creation_time               name  \\\n",
       "0           1 2014-04-22 03:53:30     Clausen August   \n",
       "1           2 2013-11-15 03:45:04      Poole Matthew   \n",
       "2           3 2013-03-19 23:14:52  Bottrill Mitchell   \n",
       "3           4 2013-05-21 08:09:28    Clausen Nicklas   \n",
       "4           5 2013-01-17 10:14:20          Raw Grace   \n",
       "5           6 2013-12-17 03:37:06      Cunha Eduardo   \n",
       "6           7 2012-12-16 13:24:32       Sewell Tyler   \n",
       "7           8 2013-07-31 05:34:02  Hamilton Danielle   \n",
       "8           9 2013-11-05 04:04:24         Amsel Paul   \n",
       "9          10 2013-01-16 22:08:03       Santos Carla   \n",
       "10         11 2013-12-26 03:55:54     Paulsen Malthe   \n",
       "11         12 2014-04-17 23:48:38    Mathiesen Lærke   \n",
       "12         13 2014-03-30 16:19:38      Fry Alexander   \n",
       "13         14 2012-10-11 16:14:33        Rivera Bret   \n",
       "14         15 2013-07-16 21:33:54        Theiss Ralf   \n",
       "15         16 2013-02-11 10:09:50         Engel René   \n",
       "16         17 2014-04-09 14:39:38   Reynolds Anthony   \n",
       "17         18 2013-08-24 00:26:46   Gregersen Celina   \n",
       "18         19 2013-05-24 14:56:36     Collins Arlene   \n",
       "19         20 2014-03-06 11:46:38      Helms Mikayla   \n",
       "\n",
       "                              email    creation_source  \\\n",
       "0          AugustCClausen@yahoo.com       GUEST_INVITE   \n",
       "1            MatthewPoole@gustr.com         ORG_INVITE   \n",
       "2        MitchellBottrill@gustr.com         ORG_INVITE   \n",
       "3         NicklasSClausen@yahoo.com       GUEST_INVITE   \n",
       "4                GraceRaw@yahoo.com       GUEST_INVITE   \n",
       "5     EduardoPereiraCunha@yahoo.com       GUEST_INVITE   \n",
       "6        TylerSewell@jourrapide.com             SIGNUP   \n",
       "7        DanielleHamilton@yahoo.com  PERSONAL_PROJECTS   \n",
       "8             PaulAmsel@hotmail.com  PERSONAL_PROJECTS   \n",
       "9     CarlaFerreiraSantos@gustr.com         ORG_INVITE   \n",
       "10         MaltheAPaulsen@gustr.com             SIGNUP   \n",
       "11        LaerkeLMathiesen@cuvox.de         ORG_INVITE   \n",
       "12           AlexanderDFry@cuvox.de         ORG_INVITE   \n",
       "13            BretKRivera@gmail.com             SIGNUP   \n",
       "14           RalfTheiss@hotmail.com  PERSONAL_PROJECTS   \n",
       "15            ReneEngel@hotmail.com  PERSONAL_PROJECTS   \n",
       "16   AnthonyReynolds@jourrapide.com       GUEST_INVITE   \n",
       "17  CelinaAGregersen@jourrapide.com       GUEST_INVITE   \n",
       "18         ArleneRCollins@gmail.com             SIGNUP   \n",
       "19               lqyvjilf@uhzdq.com             SIGNUP   \n",
       "\n",
       "   last_session_creation_time  opted_in_to_mailing_list  \\\n",
       "0         2014-04-22 03:53:30                         1   \n",
       "1         2014-03-31 03:45:04                         0   \n",
       "2         2013-03-19 23:14:52                         0   \n",
       "3         2013-05-22 08:09:28                         0   \n",
       "4         2013-01-22 10:14:20                         0   \n",
       "5         2013-12-19 03:37:06                         0   \n",
       "6         2012-12-20 13:24:32                         0   \n",
       "7         1970-01-01 00:00:00                         1   \n",
       "8         1970-01-01 00:00:00                         0   \n",
       "9         2014-06-03 22:08:03                         1   \n",
       "10        2013-12-27 03:55:54                         0   \n",
       "11        1970-01-01 00:00:00                         0   \n",
       "12        2014-03-30 16:19:38                         0   \n",
       "13        2012-10-12 16:14:33                         0   \n",
       "14        1970-01-01 00:00:00                         0   \n",
       "15        1970-01-01 00:00:00                         0   \n",
       "16        2014-04-12 14:39:38                         1   \n",
       "17        1970-01-01 00:00:00                         0   \n",
       "18        2013-05-30 14:56:36                         1   \n",
       "19        2014-05-29 11:46:38                         0   \n",
       "\n",
       "    enabled_for_marketing_drip  org_id invited_by_user_id  \n",
       "0                            0      11            10803.0  \n",
       "1                            0       1              316.0  \n",
       "2                            0      94             1525.0  \n",
       "3                            0       1             5151.0  \n",
       "4                            0     193             5240.0  \n",
       "5                            0     197            11241.0  \n",
       "6                            1      37            Unknown  \n",
       "7                            1      74            Unknown  \n",
       "8                            0     302            Unknown  \n",
       "9                            1     318             4143.0  \n",
       "10                           0      69            Unknown  \n",
       "11                           0     130             9270.0  \n",
       "12                           0     254            11204.0  \n",
       "13                           0       0            Unknown  \n",
       "14                           0     175            Unknown  \n",
       "15                           0     211            Unknown  \n",
       "16                           0     175             1600.0  \n",
       "17                           0       2             3153.0  \n",
       "18                           0       0            Unknown  \n",
       "19                           0      58            Unknown  "
      ]
     },
     "execution_count": 10,
     "metadata": {},
     "output_type": "execute_result"
    }
   ],
   "source": [
    "## Convert 'last_session_creation_time' to datetime object\n",
    "users['last_session_creation_time'] = pd.to_datetime(users['last_session_creation_time'], unit='s')\n",
    "users.head(20)"
   ]
  },
  {
   "cell_type": "code",
   "execution_count": 11,
   "id": "5800774c-7b11-48b4-86d1-70425a891469",
   "metadata": {
    "tags": []
   },
   "outputs": [
    {
     "data": {
      "text/html": [
       "<div>\n",
       "<style scoped>\n",
       "    .dataframe tbody tr th:only-of-type {\n",
       "        vertical-align: middle;\n",
       "    }\n",
       "\n",
       "    .dataframe tbody tr th {\n",
       "        vertical-align: top;\n",
       "    }\n",
       "\n",
       "    .dataframe thead th {\n",
       "        text-align: right;\n",
       "    }\n",
       "</style>\n",
       "<table border=\"1\" class=\"dataframe\">\n",
       "  <thead>\n",
       "    <tr style=\"text-align: right;\">\n",
       "      <th></th>\n",
       "      <th>object_id</th>\n",
       "      <th>creation_time</th>\n",
       "      <th>name</th>\n",
       "      <th>email</th>\n",
       "      <th>creation_source</th>\n",
       "      <th>last_session_creation_time</th>\n",
       "      <th>opted_in_to_mailing_list</th>\n",
       "      <th>enabled_for_marketing_drip</th>\n",
       "      <th>org_id</th>\n",
       "      <th>invited_by_user_id</th>\n",
       "    </tr>\n",
       "  </thead>\n",
       "  <tbody>\n",
       "    <tr>\n",
       "      <th>0</th>\n",
       "      <td>1</td>\n",
       "      <td>2014-04-22 03:53:30</td>\n",
       "      <td>Clausen August</td>\n",
       "      <td>AugustCClausen@yahoo.com</td>\n",
       "      <td>GUEST_INVITE</td>\n",
       "      <td>2014-04-22 03:53:30</td>\n",
       "      <td>1</td>\n",
       "      <td>0</td>\n",
       "      <td>11</td>\n",
       "      <td>10803.0</td>\n",
       "    </tr>\n",
       "    <tr>\n",
       "      <th>1</th>\n",
       "      <td>2</td>\n",
       "      <td>2013-11-15 03:45:04</td>\n",
       "      <td>Poole Matthew</td>\n",
       "      <td>MatthewPoole@gustr.com</td>\n",
       "      <td>ORG_INVITE</td>\n",
       "      <td>2014-03-31 03:45:04</td>\n",
       "      <td>0</td>\n",
       "      <td>0</td>\n",
       "      <td>1</td>\n",
       "      <td>316.0</td>\n",
       "    </tr>\n",
       "    <tr>\n",
       "      <th>2</th>\n",
       "      <td>3</td>\n",
       "      <td>2013-03-19 23:14:52</td>\n",
       "      <td>Bottrill Mitchell</td>\n",
       "      <td>MitchellBottrill@gustr.com</td>\n",
       "      <td>ORG_INVITE</td>\n",
       "      <td>2013-03-19 23:14:52</td>\n",
       "      <td>0</td>\n",
       "      <td>0</td>\n",
       "      <td>94</td>\n",
       "      <td>1525.0</td>\n",
       "    </tr>\n",
       "    <tr>\n",
       "      <th>3</th>\n",
       "      <td>4</td>\n",
       "      <td>2013-05-21 08:09:28</td>\n",
       "      <td>Clausen Nicklas</td>\n",
       "      <td>NicklasSClausen@yahoo.com</td>\n",
       "      <td>GUEST_INVITE</td>\n",
       "      <td>2013-05-22 08:09:28</td>\n",
       "      <td>0</td>\n",
       "      <td>0</td>\n",
       "      <td>1</td>\n",
       "      <td>5151.0</td>\n",
       "    </tr>\n",
       "    <tr>\n",
       "      <th>4</th>\n",
       "      <td>5</td>\n",
       "      <td>2013-01-17 10:14:20</td>\n",
       "      <td>Raw Grace</td>\n",
       "      <td>GraceRaw@yahoo.com</td>\n",
       "      <td>GUEST_INVITE</td>\n",
       "      <td>2013-01-22 10:14:20</td>\n",
       "      <td>0</td>\n",
       "      <td>0</td>\n",
       "      <td>193</td>\n",
       "      <td>5240.0</td>\n",
       "    </tr>\n",
       "    <tr>\n",
       "      <th>5</th>\n",
       "      <td>6</td>\n",
       "      <td>2013-12-17 03:37:06</td>\n",
       "      <td>Cunha Eduardo</td>\n",
       "      <td>EduardoPereiraCunha@yahoo.com</td>\n",
       "      <td>GUEST_INVITE</td>\n",
       "      <td>2013-12-19 03:37:06</td>\n",
       "      <td>0</td>\n",
       "      <td>0</td>\n",
       "      <td>197</td>\n",
       "      <td>11241.0</td>\n",
       "    </tr>\n",
       "    <tr>\n",
       "      <th>6</th>\n",
       "      <td>7</td>\n",
       "      <td>2012-12-16 13:24:32</td>\n",
       "      <td>Sewell Tyler</td>\n",
       "      <td>TylerSewell@jourrapide.com</td>\n",
       "      <td>SIGNUP</td>\n",
       "      <td>2012-12-20 13:24:32</td>\n",
       "      <td>0</td>\n",
       "      <td>1</td>\n",
       "      <td>37</td>\n",
       "      <td>Unknown</td>\n",
       "    </tr>\n",
       "    <tr>\n",
       "      <th>7</th>\n",
       "      <td>8</td>\n",
       "      <td>2013-07-31 05:34:02</td>\n",
       "      <td>Hamilton Danielle</td>\n",
       "      <td>DanielleHamilton@yahoo.com</td>\n",
       "      <td>PERSONAL_PROJECTS</td>\n",
       "      <td>2013-07-31 05:34:02</td>\n",
       "      <td>1</td>\n",
       "      <td>1</td>\n",
       "      <td>74</td>\n",
       "      <td>Unknown</td>\n",
       "    </tr>\n",
       "    <tr>\n",
       "      <th>8</th>\n",
       "      <td>9</td>\n",
       "      <td>2013-11-05 04:04:24</td>\n",
       "      <td>Amsel Paul</td>\n",
       "      <td>PaulAmsel@hotmail.com</td>\n",
       "      <td>PERSONAL_PROJECTS</td>\n",
       "      <td>2013-11-05 04:04:24</td>\n",
       "      <td>0</td>\n",
       "      <td>0</td>\n",
       "      <td>302</td>\n",
       "      <td>Unknown</td>\n",
       "    </tr>\n",
       "    <tr>\n",
       "      <th>9</th>\n",
       "      <td>10</td>\n",
       "      <td>2013-01-16 22:08:03</td>\n",
       "      <td>Santos Carla</td>\n",
       "      <td>CarlaFerreiraSantos@gustr.com</td>\n",
       "      <td>ORG_INVITE</td>\n",
       "      <td>2014-06-03 22:08:03</td>\n",
       "      <td>1</td>\n",
       "      <td>1</td>\n",
       "      <td>318</td>\n",
       "      <td>4143.0</td>\n",
       "    </tr>\n",
       "  </tbody>\n",
       "</table>\n",
       "</div>"
      ],
      "text/plain": [
       "   object_id       creation_time               name  \\\n",
       "0          1 2014-04-22 03:53:30     Clausen August   \n",
       "1          2 2013-11-15 03:45:04      Poole Matthew   \n",
       "2          3 2013-03-19 23:14:52  Bottrill Mitchell   \n",
       "3          4 2013-05-21 08:09:28    Clausen Nicklas   \n",
       "4          5 2013-01-17 10:14:20          Raw Grace   \n",
       "5          6 2013-12-17 03:37:06      Cunha Eduardo   \n",
       "6          7 2012-12-16 13:24:32       Sewell Tyler   \n",
       "7          8 2013-07-31 05:34:02  Hamilton Danielle   \n",
       "8          9 2013-11-05 04:04:24         Amsel Paul   \n",
       "9         10 2013-01-16 22:08:03       Santos Carla   \n",
       "\n",
       "                           email    creation_source  \\\n",
       "0       AugustCClausen@yahoo.com       GUEST_INVITE   \n",
       "1         MatthewPoole@gustr.com         ORG_INVITE   \n",
       "2     MitchellBottrill@gustr.com         ORG_INVITE   \n",
       "3      NicklasSClausen@yahoo.com       GUEST_INVITE   \n",
       "4             GraceRaw@yahoo.com       GUEST_INVITE   \n",
       "5  EduardoPereiraCunha@yahoo.com       GUEST_INVITE   \n",
       "6     TylerSewell@jourrapide.com             SIGNUP   \n",
       "7     DanielleHamilton@yahoo.com  PERSONAL_PROJECTS   \n",
       "8          PaulAmsel@hotmail.com  PERSONAL_PROJECTS   \n",
       "9  CarlaFerreiraSantos@gustr.com         ORG_INVITE   \n",
       "\n",
       "  last_session_creation_time  opted_in_to_mailing_list  \\\n",
       "0        2014-04-22 03:53:30                         1   \n",
       "1        2014-03-31 03:45:04                         0   \n",
       "2        2013-03-19 23:14:52                         0   \n",
       "3        2013-05-22 08:09:28                         0   \n",
       "4        2013-01-22 10:14:20                         0   \n",
       "5        2013-12-19 03:37:06                         0   \n",
       "6        2012-12-20 13:24:32                         0   \n",
       "7        2013-07-31 05:34:02                         1   \n",
       "8        2013-11-05 04:04:24                         0   \n",
       "9        2014-06-03 22:08:03                         1   \n",
       "\n",
       "   enabled_for_marketing_drip  org_id invited_by_user_id  \n",
       "0                           0      11            10803.0  \n",
       "1                           0       1              316.0  \n",
       "2                           0      94             1525.0  \n",
       "3                           0       1             5151.0  \n",
       "4                           0     193             5240.0  \n",
       "5                           0     197            11241.0  \n",
       "6                           1      37            Unknown  \n",
       "7                           1      74            Unknown  \n",
       "8                           0     302            Unknown  \n",
       "9                           1     318             4143.0  "
      ]
     },
     "execution_count": 11,
     "metadata": {},
     "output_type": "execute_result"
    }
   ],
   "source": [
    "# replace 'last_session_creation_time' of 0 with the creation_time value\n",
    "# This indicates last user login was when they created the account (and have never logged in since)\n",
    "\n",
    "rows_to_fill = users['last_session_creation_time'] == '1970-01-01 00:00:00'  # Rows with missing values\n",
    "users.loc[rows_to_fill, 'last_session_creation_time'] = users.loc[rows_to_fill, 'creation_time']\n",
    "users.head(10)"
   ]
  },
  {
   "cell_type": "markdown",
   "id": "a6c35273-903e-4d25-92fd-6d37e3e0874e",
   "metadata": {},
   "source": [
    "#### Check for duplicate rows"
   ]
  },
  {
   "cell_type": "code",
   "execution_count": 12,
   "id": "a8396fdc-99e7-46b6-997c-3470fa941906",
   "metadata": {
    "tags": []
   },
   "outputs": [
    {
     "data": {
      "text/plain": [
       "561"
      ]
     },
     "execution_count": 12,
     "metadata": {},
     "output_type": "execute_result"
    }
   ],
   "source": [
    "# check for identical users or email addresses\n",
    "users['name'].value_counts()\n",
    "(users['name'].value_counts() > 1).sum()"
   ]
  },
  {
   "cell_type": "code",
   "execution_count": 13,
   "id": "29ead0cf-3440-4900-b60a-b7c724232486",
   "metadata": {
    "tags": []
   },
   "outputs": [
    {
     "data": {
      "text/plain": [
       "20"
      ]
     },
     "execution_count": 13,
     "metadata": {},
     "output_type": "execute_result"
    }
   ],
   "source": [
    "# check for identical users or email addresses\n",
    "users['email'].value_counts()\n",
    "(users['email'].value_counts() > 1).sum()"
   ]
  },
  {
   "cell_type": "markdown",
   "id": "4c074947-2bff-40ef-93dc-6bbbbc8f5b9c",
   "metadata": {},
   "source": [
    "There seem to be some duplicated users. Emails are more reliably unique than names, but I'll also check by using a combination of name and email."
   ]
  },
  {
   "cell_type": "code",
   "execution_count": 14,
   "id": "e88a2197-2e15-4312-b62d-0d545e8f854e",
   "metadata": {
    "tags": []
   },
   "outputs": [
    {
     "data": {
      "text/plain": [
       "(19, 10)"
      ]
     },
     "execution_count": 14,
     "metadata": {},
     "output_type": "execute_result"
    }
   ],
   "source": [
    "# Identify duplicates in the 'email' column\n",
    "duplicates_mask = (users['name'] + ', ' + users['email']).duplicated(keep='last')  # Keep=False marks all duplicates as True\n",
    "\n",
    "# Filter and print the rows with duplicates\n",
    "rows_with_duplicates = users[duplicates_mask]\n",
    "rows_with_duplicates\n",
    "rows_with_duplicates.shape"
   ]
  },
  {
   "cell_type": "markdown",
   "id": "1c9b7c8c-1780-424b-8ab7-229b48be2409",
   "metadata": {},
   "source": [
    "There is one less duplicate here, but this likely indicates that someone signed up twice using a slightly different name. We'll use email as a unique identifier."
   ]
  },
  {
   "cell_type": "code",
   "execution_count": 15,
   "id": "d37577e4-4721-4f54-9d00-28a390445cf8",
   "metadata": {
    "tags": []
   },
   "outputs": [
    {
     "data": {
      "text/html": [
       "<div>\n",
       "<style scoped>\n",
       "    .dataframe tbody tr th:only-of-type {\n",
       "        vertical-align: middle;\n",
       "    }\n",
       "\n",
       "    .dataframe tbody tr th {\n",
       "        vertical-align: top;\n",
       "    }\n",
       "\n",
       "    .dataframe thead th {\n",
       "        text-align: right;\n",
       "    }\n",
       "</style>\n",
       "<table border=\"1\" class=\"dataframe\">\n",
       "  <thead>\n",
       "    <tr style=\"text-align: right;\">\n",
       "      <th></th>\n",
       "      <th>object_id</th>\n",
       "      <th>creation_time</th>\n",
       "      <th>name</th>\n",
       "      <th>email</th>\n",
       "      <th>creation_source</th>\n",
       "      <th>last_session_creation_time</th>\n",
       "      <th>opted_in_to_mailing_list</th>\n",
       "      <th>enabled_for_marketing_drip</th>\n",
       "      <th>org_id</th>\n",
       "      <th>invited_by_user_id</th>\n",
       "    </tr>\n",
       "  </thead>\n",
       "  <tbody>\n",
       "    <tr>\n",
       "      <th>375</th>\n",
       "      <td>376</td>\n",
       "      <td>2012-08-10 22:27:08</td>\n",
       "      <td>Tye Jacob</td>\n",
       "      <td>JacobTye@gmail.com</td>\n",
       "      <td>SIGNUP_GOOGLE_AUTH</td>\n",
       "      <td>2012-08-10 22:27:08</td>\n",
       "      <td>1</td>\n",
       "      <td>0</td>\n",
       "      <td>104</td>\n",
       "      <td>Unknown</td>\n",
       "    </tr>\n",
       "    <tr>\n",
       "      <th>1169</th>\n",
       "      <td>1170</td>\n",
       "      <td>2014-04-27 16:48:34</td>\n",
       "      <td>Sankt Janina</td>\n",
       "      <td>JaninaSankt@gmail.com</td>\n",
       "      <td>ORG_INVITE</td>\n",
       "      <td>2014-04-27 16:48:34</td>\n",
       "      <td>1</td>\n",
       "      <td>1</td>\n",
       "      <td>285</td>\n",
       "      <td>623.0</td>\n",
       "    </tr>\n",
       "    <tr>\n",
       "      <th>1603</th>\n",
       "      <td>1604</td>\n",
       "      <td>2014-02-03 04:48:08</td>\n",
       "      <td>Lane Alfie</td>\n",
       "      <td>AlfieLane@yahoo.com</td>\n",
       "      <td>ORG_INVITE</td>\n",
       "      <td>2014-02-06 04:48:08</td>\n",
       "      <td>0</td>\n",
       "      <td>0</td>\n",
       "      <td>0</td>\n",
       "      <td>4128.0</td>\n",
       "    </tr>\n",
       "    <tr>\n",
       "      <th>2375</th>\n",
       "      <td>2376</td>\n",
       "      <td>2013-03-22 00:12:45</td>\n",
       "      <td>Winther Magnus</td>\n",
       "      <td>MagnusSWinther@jourrapide.com</td>\n",
       "      <td>GUEST_INVITE</td>\n",
       "      <td>2013-03-22 00:12:45</td>\n",
       "      <td>1</td>\n",
       "      <td>0</td>\n",
       "      <td>137</td>\n",
       "      <td>256.0</td>\n",
       "    </tr>\n",
       "    <tr>\n",
       "      <th>2751</th>\n",
       "      <td>2752</td>\n",
       "      <td>2013-10-12 22:10:03</td>\n",
       "      <td>Mueller Klaus</td>\n",
       "      <td>KlausMueller@gustr.com</td>\n",
       "      <td>ORG_INVITE</td>\n",
       "      <td>2013-10-12 22:10:03</td>\n",
       "      <td>0</td>\n",
       "      <td>0</td>\n",
       "      <td>31</td>\n",
       "      <td>8202.0</td>\n",
       "    </tr>\n",
       "    <tr>\n",
       "      <th>2764</th>\n",
       "      <td>2765</td>\n",
       "      <td>2012-06-29 13:11:26</td>\n",
       "      <td>Karlsen Mimir</td>\n",
       "      <td>MimirMKarlsen@jourrapide.com</td>\n",
       "      <td>GUEST_INVITE</td>\n",
       "      <td>2012-07-02 13:11:26</td>\n",
       "      <td>1</td>\n",
       "      <td>1</td>\n",
       "      <td>334</td>\n",
       "      <td>2765.0</td>\n",
       "    </tr>\n",
       "    <tr>\n",
       "      <th>3213</th>\n",
       "      <td>3214</td>\n",
       "      <td>2013-02-20 03:31:36</td>\n",
       "      <td>Kappel Kristin</td>\n",
       "      <td>KristinKappel@yahoo.com</td>\n",
       "      <td>ORG_INVITE</td>\n",
       "      <td>2013-02-22 03:31:36</td>\n",
       "      <td>0</td>\n",
       "      <td>0</td>\n",
       "      <td>264</td>\n",
       "      <td>3918.0</td>\n",
       "    </tr>\n",
       "    <tr>\n",
       "      <th>3426</th>\n",
       "      <td>3427</td>\n",
       "      <td>2013-12-01 11:03:15</td>\n",
       "      <td>Walter Maximilian</td>\n",
       "      <td>MaximilianWalter@gmail.com</td>\n",
       "      <td>SIGNUP_GOOGLE_AUTH</td>\n",
       "      <td>2013-12-01 11:03:15</td>\n",
       "      <td>0</td>\n",
       "      <td>0</td>\n",
       "      <td>2</td>\n",
       "      <td>Unknown</td>\n",
       "    </tr>\n",
       "    <tr>\n",
       "      <th>3582</th>\n",
       "      <td>3583</td>\n",
       "      <td>2012-12-10 15:41:20</td>\n",
       "      <td>Holm Nicolai</td>\n",
       "      <td>NicolaiSHolm@yahoo.com</td>\n",
       "      <td>GUEST_INVITE</td>\n",
       "      <td>2012-12-10 15:41:20</td>\n",
       "      <td>1</td>\n",
       "      <td>0</td>\n",
       "      <td>243</td>\n",
       "      <td>4225.0</td>\n",
       "    </tr>\n",
       "    <tr>\n",
       "      <th>3605</th>\n",
       "      <td>3606</td>\n",
       "      <td>2013-05-10 08:31:59</td>\n",
       "      <td>Sankt Janina</td>\n",
       "      <td>JaninaSankt@gmail.com</td>\n",
       "      <td>GUEST_INVITE</td>\n",
       "      <td>2013-05-29 08:31:59</td>\n",
       "      <td>0</td>\n",
       "      <td>0</td>\n",
       "      <td>84</td>\n",
       "      <td>8356.0</td>\n",
       "    </tr>\n",
       "  </tbody>\n",
       "</table>\n",
       "</div>"
      ],
      "text/plain": [
       "      object_id       creation_time               name  \\\n",
       "375         376 2012-08-10 22:27:08          Tye Jacob   \n",
       "1169       1170 2014-04-27 16:48:34       Sankt Janina   \n",
       "1603       1604 2014-02-03 04:48:08         Lane Alfie   \n",
       "2375       2376 2013-03-22 00:12:45     Winther Magnus   \n",
       "2751       2752 2013-10-12 22:10:03      Mueller Klaus   \n",
       "2764       2765 2012-06-29 13:11:26      Karlsen Mimir   \n",
       "3213       3214 2013-02-20 03:31:36     Kappel Kristin   \n",
       "3426       3427 2013-12-01 11:03:15  Walter Maximilian   \n",
       "3582       3583 2012-12-10 15:41:20       Holm Nicolai   \n",
       "3605       3606 2013-05-10 08:31:59       Sankt Janina   \n",
       "\n",
       "                              email     creation_source  \\\n",
       "375              JacobTye@gmail.com  SIGNUP_GOOGLE_AUTH   \n",
       "1169          JaninaSankt@gmail.com          ORG_INVITE   \n",
       "1603            AlfieLane@yahoo.com          ORG_INVITE   \n",
       "2375  MagnusSWinther@jourrapide.com        GUEST_INVITE   \n",
       "2751         KlausMueller@gustr.com          ORG_INVITE   \n",
       "2764   MimirMKarlsen@jourrapide.com        GUEST_INVITE   \n",
       "3213        KristinKappel@yahoo.com          ORG_INVITE   \n",
       "3426     MaximilianWalter@gmail.com  SIGNUP_GOOGLE_AUTH   \n",
       "3582         NicolaiSHolm@yahoo.com        GUEST_INVITE   \n",
       "3605          JaninaSankt@gmail.com        GUEST_INVITE   \n",
       "\n",
       "     last_session_creation_time  opted_in_to_mailing_list  \\\n",
       "375         2012-08-10 22:27:08                         1   \n",
       "1169        2014-04-27 16:48:34                         1   \n",
       "1603        2014-02-06 04:48:08                         0   \n",
       "2375        2013-03-22 00:12:45                         1   \n",
       "2751        2013-10-12 22:10:03                         0   \n",
       "2764        2012-07-02 13:11:26                         1   \n",
       "3213        2013-02-22 03:31:36                         0   \n",
       "3426        2013-12-01 11:03:15                         0   \n",
       "3582        2012-12-10 15:41:20                         1   \n",
       "3605        2013-05-29 08:31:59                         0   \n",
       "\n",
       "      enabled_for_marketing_drip  org_id invited_by_user_id  \n",
       "375                            0     104            Unknown  \n",
       "1169                           1     285              623.0  \n",
       "1603                           0       0             4128.0  \n",
       "2375                           0     137              256.0  \n",
       "2751                           0      31             8202.0  \n",
       "2764                           1     334             2765.0  \n",
       "3213                           0     264             3918.0  \n",
       "3426                           0       2            Unknown  \n",
       "3582                           0     243             4225.0  \n",
       "3605                           0      84             8356.0  "
      ]
     },
     "execution_count": 15,
     "metadata": {},
     "output_type": "execute_result"
    }
   ],
   "source": [
    "# Examine the duplicated rows for email\n",
    "# Identify duplicates in the 'email' column\n",
    "duplicates_mask = users['email'].duplicated(keep=False)  # Keep=False marks all duplicates as True\n",
    "\n",
    "# Filter and print the rows with duplicates\n",
    "rows_with_duplicates = users[duplicates_mask]\n",
    "rows_with_duplicates.head(10)"
   ]
  },
  {
   "cell_type": "markdown",
   "id": "9ce5a79c-7367-4e86-a0b0-065913168e15",
   "metadata": {},
   "source": [
    "It looks like users signed up twice on difference dates. I'll keep the last of these account creations, and drop the first."
   ]
  },
  {
   "cell_type": "code",
   "execution_count": 16,
   "id": "8980e28b-b61c-4e04-a602-6e96cc33692e",
   "metadata": {
    "tags": []
   },
   "outputs": [
    {
     "data": {
      "text/plain": [
       "(11980, 10)"
      ]
     },
     "execution_count": 16,
     "metadata": {},
     "output_type": "execute_result"
    }
   ],
   "source": [
    "# Identify duplicates in the 'email' column\n",
    "duplicates_mask = users['email'].duplicated(keep='first')  # Keep=first marks first duplicates as True\n",
    "\n",
    "users = users[~duplicates_mask]\n",
    "users.shape #check shape to see that 20 duplicates were removed"
   ]
  },
  {
   "cell_type": "markdown",
   "id": "2e3cc589-a910-43f4-9360-3b16fb44d1fe",
   "metadata": {},
   "source": [
    "### Load second dataframe"
   ]
  },
  {
   "cell_type": "code",
   "execution_count": 17,
   "id": "3c883f0d-b817-4d95-a34e-e82d531d6014",
   "metadata": {
    "tags": []
   },
   "outputs": [
    {
     "data": {
      "text/html": [
       "<div>\n",
       "<style scoped>\n",
       "    .dataframe tbody tr th:only-of-type {\n",
       "        vertical-align: middle;\n",
       "    }\n",
       "\n",
       "    .dataframe tbody tr th {\n",
       "        vertical-align: top;\n",
       "    }\n",
       "\n",
       "    .dataframe thead th {\n",
       "        text-align: right;\n",
       "    }\n",
       "</style>\n",
       "<table border=\"1\" class=\"dataframe\">\n",
       "  <thead>\n",
       "    <tr style=\"text-align: right;\">\n",
       "      <th></th>\n",
       "      <th>time_stamp</th>\n",
       "      <th>user_id</th>\n",
       "      <th>visited</th>\n",
       "    </tr>\n",
       "  </thead>\n",
       "  <tbody>\n",
       "    <tr>\n",
       "      <th>0</th>\n",
       "      <td>2014-04-22 03:53:30</td>\n",
       "      <td>1</td>\n",
       "      <td>1</td>\n",
       "    </tr>\n",
       "    <tr>\n",
       "      <th>1</th>\n",
       "      <td>2013-11-15 03:45:04</td>\n",
       "      <td>2</td>\n",
       "      <td>1</td>\n",
       "    </tr>\n",
       "    <tr>\n",
       "      <th>2</th>\n",
       "      <td>2013-11-29 03:45:04</td>\n",
       "      <td>2</td>\n",
       "      <td>1</td>\n",
       "    </tr>\n",
       "    <tr>\n",
       "      <th>3</th>\n",
       "      <td>2013-12-09 03:45:04</td>\n",
       "      <td>2</td>\n",
       "      <td>1</td>\n",
       "    </tr>\n",
       "    <tr>\n",
       "      <th>4</th>\n",
       "      <td>2013-12-25 03:45:04</td>\n",
       "      <td>2</td>\n",
       "      <td>1</td>\n",
       "    </tr>\n",
       "  </tbody>\n",
       "</table>\n",
       "</div>"
      ],
      "text/plain": [
       "            time_stamp  user_id  visited\n",
       "0  2014-04-22 03:53:30        1        1\n",
       "1  2013-11-15 03:45:04        2        1\n",
       "2  2013-11-29 03:45:04        2        1\n",
       "3  2013-12-09 03:45:04        2        1\n",
       "4  2013-12-25 03:45:04        2        1"
      ]
     },
     "execution_count": 17,
     "metadata": {},
     "output_type": "execute_result"
    }
   ],
   "source": [
    "# User engagement csv\n",
    "user_engagement = pd.read_csv('../takehome_user_engagement.csv')\n",
    "user_engagement.head()"
   ]
  },
  {
   "cell_type": "code",
   "execution_count": 18,
   "id": "2ebab9ce-a584-4900-9707-3d67db70a42e",
   "metadata": {
    "tags": []
   },
   "outputs": [
    {
     "name": "stdout",
     "output_type": "stream",
     "text": [
      "<class 'pandas.core.frame.DataFrame'>\n",
      "RangeIndex: 207917 entries, 0 to 207916\n",
      "Data columns (total 3 columns):\n",
      " #   Column      Non-Null Count   Dtype \n",
      "---  ------      --------------   ----- \n",
      " 0   time_stamp  207917 non-null  object\n",
      " 1   user_id     207917 non-null  int64 \n",
      " 2   visited     207917 non-null  int64 \n",
      "dtypes: int64(2), object(1)\n",
      "memory usage: 4.8+ MB\n"
     ]
    }
   ],
   "source": [
    "user_engagement.info()"
   ]
  },
  {
   "cell_type": "code",
   "execution_count": 19,
   "id": "a222a626-abe6-4a95-8d19-0a9402058009",
   "metadata": {
    "tags": []
   },
   "outputs": [
    {
     "name": "stdout",
     "output_type": "stream",
     "text": [
      "<class 'pandas.core.frame.DataFrame'>\n",
      "RangeIndex: 207917 entries, 0 to 207916\n",
      "Data columns (total 3 columns):\n",
      " #   Column      Non-Null Count   Dtype         \n",
      "---  ------      --------------   -----         \n",
      " 0   time_stamp  207917 non-null  datetime64[ns]\n",
      " 1   user_id     207917 non-null  int64         \n",
      " 2   visited     207917 non-null  int64         \n",
      "dtypes: datetime64[ns](1), int64(2)\n",
      "memory usage: 4.8 MB\n"
     ]
    }
   ],
   "source": [
    "# Convert time_stamp to datetime object\n",
    "user_engagement['time_stamp'] = pd.to_datetime(user_engagement['time_stamp'])\n",
    "user_engagement.info()"
   ]
  },
  {
   "cell_type": "markdown",
   "id": "a1847ebf-f43b-4fd3-9e69-71b0f622c43a",
   "metadata": {},
   "source": [
    "### Create predictor column\n",
    "If logins > 3 for a particular user in a seven day period, assing 'adopted_user'=1"
   ]
  },
  {
   "cell_type": "code",
   "execution_count": 20,
   "id": "6a7160b8-600d-4030-a9c8-055e966d6937",
   "metadata": {
    "tags": []
   },
   "outputs": [
    {
     "data": {
      "text/plain": [
       "(207917, 3)"
      ]
     },
     "execution_count": 20,
     "metadata": {},
     "output_type": "execute_result"
    }
   ],
   "source": [
    "user_engagement.shape"
   ]
  },
  {
   "cell_type": "code",
   "execution_count": 21,
   "id": "665061f8-166b-4283-8eee-ca7bc0c1fcf3",
   "metadata": {
    "tags": []
   },
   "outputs": [
    {
     "data": {
      "text/plain": [
       "8823"
      ]
     },
     "execution_count": 21,
     "metadata": {},
     "output_type": "execute_result"
    }
   ],
   "source": [
    "# Unique user_ids\n",
    "len(user_engagement['user_id'].unique())"
   ]
  },
  {
   "cell_type": "code",
   "execution_count": 22,
   "id": "21e27a34-174f-4d66-89be-abaf53b2f137",
   "metadata": {
    "tags": []
   },
   "outputs": [
    {
     "data": {
      "text/html": [
       "<div>\n",
       "<style scoped>\n",
       "    .dataframe tbody tr th:only-of-type {\n",
       "        vertical-align: middle;\n",
       "    }\n",
       "\n",
       "    .dataframe tbody tr th {\n",
       "        vertical-align: top;\n",
       "    }\n",
       "\n",
       "    .dataframe thead th {\n",
       "        text-align: right;\n",
       "    }\n",
       "</style>\n",
       "<table border=\"1\" class=\"dataframe\">\n",
       "  <thead>\n",
       "    <tr style=\"text-align: right;\">\n",
       "      <th></th>\n",
       "      <th>user_id</th>\n",
       "      <th>count</th>\n",
       "    </tr>\n",
       "  </thead>\n",
       "  <tbody>\n",
       "    <tr>\n",
       "      <th>0</th>\n",
       "      <td>1</td>\n",
       "      <td>1</td>\n",
       "    </tr>\n",
       "    <tr>\n",
       "      <th>1</th>\n",
       "      <td>2</td>\n",
       "      <td>14</td>\n",
       "    </tr>\n",
       "    <tr>\n",
       "      <th>2</th>\n",
       "      <td>3</td>\n",
       "      <td>1</td>\n",
       "    </tr>\n",
       "    <tr>\n",
       "      <th>3</th>\n",
       "      <td>4</td>\n",
       "      <td>1</td>\n",
       "    </tr>\n",
       "    <tr>\n",
       "      <th>4</th>\n",
       "      <td>5</td>\n",
       "      <td>1</td>\n",
       "    </tr>\n",
       "  </tbody>\n",
       "</table>\n",
       "</div>"
      ],
      "text/plain": [
       "   user_id  count\n",
       "0        1      1\n",
       "1        2     14\n",
       "2        3      1\n",
       "3        4      1\n",
       "4        5      1"
      ]
     },
     "execution_count": 22,
     "metadata": {},
     "output_type": "execute_result"
    }
   ],
   "source": [
    "# Count number of logins per user\n",
    "login_count = user_engagement.groupby('user_id').size().reset_index(name='count')\n",
    "login_count.head()\n",
    "#login_count.shape"
   ]
  },
  {
   "cell_type": "code",
   "execution_count": 23,
   "id": "8643430a-5e69-4db3-bef0-34e1606f1dac",
   "metadata": {
    "tags": []
   },
   "outputs": [
    {
     "name": "stdout",
     "output_type": "stream",
     "text": [
      "The number of users who logged in over 3 times is 2007\n"
     ]
    }
   ],
   "source": [
    "# Number of users with at least 3 logins\n",
    "logins3 = login_count[(login_count['count'] > 3)]\n",
    "logins3.shape # there were 2007 users who logged in over 3 times\n",
    "print('The number of users who logged in over 3 times is', logins3.shape[0])"
   ]
  },
  {
   "cell_type": "code",
   "execution_count": 24,
   "id": "5a39a580-89bd-4779-8032-3f508b417f2a",
   "metadata": {
    "tags": []
   },
   "outputs": [
    {
     "data": {
      "text/html": [
       "<div>\n",
       "<style scoped>\n",
       "    .dataframe tbody tr th:only-of-type {\n",
       "        vertical-align: middle;\n",
       "    }\n",
       "\n",
       "    .dataframe tbody tr th {\n",
       "        vertical-align: top;\n",
       "    }\n",
       "\n",
       "    .dataframe thead th {\n",
       "        text-align: right;\n",
       "    }\n",
       "</style>\n",
       "<table border=\"1\" class=\"dataframe\">\n",
       "  <thead>\n",
       "    <tr style=\"text-align: right;\">\n",
       "      <th></th>\n",
       "      <th>time_stamp</th>\n",
       "      <th>user_id</th>\n",
       "      <th>visited</th>\n",
       "    </tr>\n",
       "  </thead>\n",
       "  <tbody>\n",
       "    <tr>\n",
       "      <th>0</th>\n",
       "      <td>1398124800000000000</td>\n",
       "      <td>1</td>\n",
       "      <td>1</td>\n",
       "    </tr>\n",
       "    <tr>\n",
       "      <th>1</th>\n",
       "      <td>1384473600000000000</td>\n",
       "      <td>2</td>\n",
       "      <td>1</td>\n",
       "    </tr>\n",
       "    <tr>\n",
       "      <th>2</th>\n",
       "      <td>1385683200000000000</td>\n",
       "      <td>2</td>\n",
       "      <td>1</td>\n",
       "    </tr>\n",
       "    <tr>\n",
       "      <th>3</th>\n",
       "      <td>1386547200000000000</td>\n",
       "      <td>2</td>\n",
       "      <td>1</td>\n",
       "    </tr>\n",
       "    <tr>\n",
       "      <th>4</th>\n",
       "      <td>1387929600000000000</td>\n",
       "      <td>2</td>\n",
       "      <td>1</td>\n",
       "    </tr>\n",
       "  </tbody>\n",
       "</table>\n",
       "</div>"
      ],
      "text/plain": [
       "            time_stamp  user_id  visited\n",
       "0  1398124800000000000        1        1\n",
       "1  1384473600000000000        2        1\n",
       "2  1385683200000000000        2        1\n",
       "3  1386547200000000000        2        1\n",
       "4  1387929600000000000        2        1"
      ]
     },
     "execution_count": 24,
     "metadata": {},
     "output_type": "execute_result"
    }
   ],
   "source": [
    "# Find users that logged in at least 3 times in seven days\n",
    "df = user_engagement\n",
    "\n",
    "df['time_stamp'] = df['time_stamp'].dt.floor('d').astype(np.int64)\n",
    "# sort  \n",
    "df = df.sort_values(['user_id', 'time_stamp'])\n",
    "df.head()"
   ]
  },
  {
   "cell_type": "code",
   "execution_count": 25,
   "id": "c9ad1d41-f568-4e3b-b7c4-e96214a4c3af",
   "metadata": {
    "collapsed": true,
    "jupyter": {
     "outputs_hidden": true
    },
    "tags": []
   },
   "outputs": [
    {
     "name": "stderr",
     "output_type": "stream",
     "text": [
      "/Users/kimbrewitt/anaconda3/lib/python3.11/site-packages/pandas/core/arrays/timedeltas.py:908: RuntimeWarning: invalid value encountered in cast\n",
      "  base = data.astype(np.int64)\n",
      "/Users/kimbrewitt/anaconda3/lib/python3.11/site-packages/pandas/core/arrays/timedeltas.py:912: RuntimeWarning: invalid value encountered in cast\n",
      "  data = (base * m + (frac * m).astype(np.int64)).view(\"timedelta64[ns]\")\n"
     ]
    }
   ],
   "source": [
    "# Set a rolling window of 3 rows \n",
    "a = df.groupby('user_id')['time_stamp'].rolling(window=3) #set window for every three rows by user_id\n",
    "b = pd.to_timedelta((a.max()- a.min())).dt.days # get number of days for each group of three logins (rows)\n",
    "c = b[b <= 7].index.get_level_values('user_id').tolist() #retrieve user_ids"
   ]
  },
  {
   "cell_type": "code",
   "execution_count": 26,
   "id": "9d1615f1-72a4-4e81-9ab4-6e4359d323b5",
   "metadata": {
    "tags": []
   },
   "outputs": [
    {
     "name": "stdout",
     "output_type": "stream",
     "text": [
      "The number of users with 3 logins within 7 says is 1656\n"
     ]
    }
   ],
   "source": [
    "print('The number of users with 3 logins within 7 says is', len(set(c)))"
   ]
  },
  {
   "cell_type": "code",
   "execution_count": 28,
   "id": "24b133d6-6ae3-4a94-a341-c601c6607ed9",
   "metadata": {
    "tags": []
   },
   "outputs": [],
   "source": [
    "# Get list of users and use it to add predictor column\n",
    "user_id_3 = list(set(c))\n"
   ]
  },
  {
   "cell_type": "code",
   "execution_count": 29,
   "id": "073f8b36-962b-4511-a142-c11c689108e4",
   "metadata": {
    "tags": []
   },
   "outputs": [
    {
     "data": {
      "text/html": [
       "<div>\n",
       "<style scoped>\n",
       "    .dataframe tbody tr th:only-of-type {\n",
       "        vertical-align: middle;\n",
       "    }\n",
       "\n",
       "    .dataframe tbody tr th {\n",
       "        vertical-align: top;\n",
       "    }\n",
       "\n",
       "    .dataframe thead th {\n",
       "        text-align: right;\n",
       "    }\n",
       "</style>\n",
       "<table border=\"1\" class=\"dataframe\">\n",
       "  <thead>\n",
       "    <tr style=\"text-align: right;\">\n",
       "      <th></th>\n",
       "      <th>object_id</th>\n",
       "      <th>creation_time</th>\n",
       "      <th>name</th>\n",
       "      <th>email</th>\n",
       "      <th>creation_source</th>\n",
       "      <th>last_session_creation_time</th>\n",
       "      <th>opted_in_to_mailing_list</th>\n",
       "      <th>enabled_for_marketing_drip</th>\n",
       "      <th>org_id</th>\n",
       "      <th>invited_by_user_id</th>\n",
       "    </tr>\n",
       "  </thead>\n",
       "  <tbody>\n",
       "    <tr>\n",
       "      <th>0</th>\n",
       "      <td>1</td>\n",
       "      <td>2014-04-22 03:53:30</td>\n",
       "      <td>Clausen August</td>\n",
       "      <td>AugustCClausen@yahoo.com</td>\n",
       "      <td>GUEST_INVITE</td>\n",
       "      <td>2014-04-22 03:53:30</td>\n",
       "      <td>1</td>\n",
       "      <td>0</td>\n",
       "      <td>11</td>\n",
       "      <td>10803.0</td>\n",
       "    </tr>\n",
       "    <tr>\n",
       "      <th>1</th>\n",
       "      <td>2</td>\n",
       "      <td>2013-11-15 03:45:04</td>\n",
       "      <td>Poole Matthew</td>\n",
       "      <td>MatthewPoole@gustr.com</td>\n",
       "      <td>ORG_INVITE</td>\n",
       "      <td>2014-03-31 03:45:04</td>\n",
       "      <td>0</td>\n",
       "      <td>0</td>\n",
       "      <td>1</td>\n",
       "      <td>316.0</td>\n",
       "    </tr>\n",
       "    <tr>\n",
       "      <th>2</th>\n",
       "      <td>3</td>\n",
       "      <td>2013-03-19 23:14:52</td>\n",
       "      <td>Bottrill Mitchell</td>\n",
       "      <td>MitchellBottrill@gustr.com</td>\n",
       "      <td>ORG_INVITE</td>\n",
       "      <td>2013-03-19 23:14:52</td>\n",
       "      <td>0</td>\n",
       "      <td>0</td>\n",
       "      <td>94</td>\n",
       "      <td>1525.0</td>\n",
       "    </tr>\n",
       "    <tr>\n",
       "      <th>3</th>\n",
       "      <td>4</td>\n",
       "      <td>2013-05-21 08:09:28</td>\n",
       "      <td>Clausen Nicklas</td>\n",
       "      <td>NicklasSClausen@yahoo.com</td>\n",
       "      <td>GUEST_INVITE</td>\n",
       "      <td>2013-05-22 08:09:28</td>\n",
       "      <td>0</td>\n",
       "      <td>0</td>\n",
       "      <td>1</td>\n",
       "      <td>5151.0</td>\n",
       "    </tr>\n",
       "    <tr>\n",
       "      <th>4</th>\n",
       "      <td>5</td>\n",
       "      <td>2013-01-17 10:14:20</td>\n",
       "      <td>Raw Grace</td>\n",
       "      <td>GraceRaw@yahoo.com</td>\n",
       "      <td>GUEST_INVITE</td>\n",
       "      <td>2013-01-22 10:14:20</td>\n",
       "      <td>0</td>\n",
       "      <td>0</td>\n",
       "      <td>193</td>\n",
       "      <td>5240.0</td>\n",
       "    </tr>\n",
       "  </tbody>\n",
       "</table>\n",
       "</div>"
      ],
      "text/plain": [
       "   object_id       creation_time               name  \\\n",
       "0          1 2014-04-22 03:53:30     Clausen August   \n",
       "1          2 2013-11-15 03:45:04      Poole Matthew   \n",
       "2          3 2013-03-19 23:14:52  Bottrill Mitchell   \n",
       "3          4 2013-05-21 08:09:28    Clausen Nicklas   \n",
       "4          5 2013-01-17 10:14:20          Raw Grace   \n",
       "\n",
       "                        email creation_source last_session_creation_time  \\\n",
       "0    AugustCClausen@yahoo.com    GUEST_INVITE        2014-04-22 03:53:30   \n",
       "1      MatthewPoole@gustr.com      ORG_INVITE        2014-03-31 03:45:04   \n",
       "2  MitchellBottrill@gustr.com      ORG_INVITE        2013-03-19 23:14:52   \n",
       "3   NicklasSClausen@yahoo.com    GUEST_INVITE        2013-05-22 08:09:28   \n",
       "4          GraceRaw@yahoo.com    GUEST_INVITE        2013-01-22 10:14:20   \n",
       "\n",
       "   opted_in_to_mailing_list  enabled_for_marketing_drip  org_id  \\\n",
       "0                         1                           0      11   \n",
       "1                         0                           0       1   \n",
       "2                         0                           0      94   \n",
       "3                         0                           0       1   \n",
       "4                         0                           0     193   \n",
       "\n",
       "  invited_by_user_id  \n",
       "0            10803.0  \n",
       "1              316.0  \n",
       "2             1525.0  \n",
       "3             5151.0  \n",
       "4             5240.0  "
      ]
     },
     "execution_count": 29,
     "metadata": {},
     "output_type": "execute_result"
    }
   ],
   "source": [
    "users.head()"
   ]
  },
  {
   "cell_type": "code",
   "execution_count": 30,
   "id": "dbcdd61c-4cb8-4981-a6fe-a96d1af83352",
   "metadata": {
    "tags": []
   },
   "outputs": [
    {
     "data": {
      "text/html": [
       "<div>\n",
       "<style scoped>\n",
       "    .dataframe tbody tr th:only-of-type {\n",
       "        vertical-align: middle;\n",
       "    }\n",
       "\n",
       "    .dataframe tbody tr th {\n",
       "        vertical-align: top;\n",
       "    }\n",
       "\n",
       "    .dataframe thead th {\n",
       "        text-align: right;\n",
       "    }\n",
       "</style>\n",
       "<table border=\"1\" class=\"dataframe\">\n",
       "  <thead>\n",
       "    <tr style=\"text-align: right;\">\n",
       "      <th></th>\n",
       "      <th>object_id</th>\n",
       "      <th>creation_time</th>\n",
       "      <th>name</th>\n",
       "      <th>email</th>\n",
       "      <th>creation_source</th>\n",
       "      <th>last_session_creation_time</th>\n",
       "      <th>opted_in_to_mailing_list</th>\n",
       "      <th>enabled_for_marketing_drip</th>\n",
       "      <th>org_id</th>\n",
       "      <th>invited_by_user_id</th>\n",
       "      <th>adopted_user</th>\n",
       "    </tr>\n",
       "  </thead>\n",
       "  <tbody>\n",
       "    <tr>\n",
       "      <th>0</th>\n",
       "      <td>1</td>\n",
       "      <td>2014-04-22 03:53:30</td>\n",
       "      <td>Clausen August</td>\n",
       "      <td>AugustCClausen@yahoo.com</td>\n",
       "      <td>GUEST_INVITE</td>\n",
       "      <td>2014-04-22 03:53:30</td>\n",
       "      <td>1</td>\n",
       "      <td>0</td>\n",
       "      <td>11</td>\n",
       "      <td>10803.0</td>\n",
       "      <td>0</td>\n",
       "    </tr>\n",
       "    <tr>\n",
       "      <th>1</th>\n",
       "      <td>2</td>\n",
       "      <td>2013-11-15 03:45:04</td>\n",
       "      <td>Poole Matthew</td>\n",
       "      <td>MatthewPoole@gustr.com</td>\n",
       "      <td>ORG_INVITE</td>\n",
       "      <td>2014-03-31 03:45:04</td>\n",
       "      <td>0</td>\n",
       "      <td>0</td>\n",
       "      <td>1</td>\n",
       "      <td>316.0</td>\n",
       "      <td>1</td>\n",
       "    </tr>\n",
       "    <tr>\n",
       "      <th>2</th>\n",
       "      <td>3</td>\n",
       "      <td>2013-03-19 23:14:52</td>\n",
       "      <td>Bottrill Mitchell</td>\n",
       "      <td>MitchellBottrill@gustr.com</td>\n",
       "      <td>ORG_INVITE</td>\n",
       "      <td>2013-03-19 23:14:52</td>\n",
       "      <td>0</td>\n",
       "      <td>0</td>\n",
       "      <td>94</td>\n",
       "      <td>1525.0</td>\n",
       "      <td>0</td>\n",
       "    </tr>\n",
       "    <tr>\n",
       "      <th>3</th>\n",
       "      <td>4</td>\n",
       "      <td>2013-05-21 08:09:28</td>\n",
       "      <td>Clausen Nicklas</td>\n",
       "      <td>NicklasSClausen@yahoo.com</td>\n",
       "      <td>GUEST_INVITE</td>\n",
       "      <td>2013-05-22 08:09:28</td>\n",
       "      <td>0</td>\n",
       "      <td>0</td>\n",
       "      <td>1</td>\n",
       "      <td>5151.0</td>\n",
       "      <td>0</td>\n",
       "    </tr>\n",
       "    <tr>\n",
       "      <th>4</th>\n",
       "      <td>5</td>\n",
       "      <td>2013-01-17 10:14:20</td>\n",
       "      <td>Raw Grace</td>\n",
       "      <td>GraceRaw@yahoo.com</td>\n",
       "      <td>GUEST_INVITE</td>\n",
       "      <td>2013-01-22 10:14:20</td>\n",
       "      <td>0</td>\n",
       "      <td>0</td>\n",
       "      <td>193</td>\n",
       "      <td>5240.0</td>\n",
       "      <td>0</td>\n",
       "    </tr>\n",
       "  </tbody>\n",
       "</table>\n",
       "</div>"
      ],
      "text/plain": [
       "   object_id       creation_time               name  \\\n",
       "0          1 2014-04-22 03:53:30     Clausen August   \n",
       "1          2 2013-11-15 03:45:04      Poole Matthew   \n",
       "2          3 2013-03-19 23:14:52  Bottrill Mitchell   \n",
       "3          4 2013-05-21 08:09:28    Clausen Nicklas   \n",
       "4          5 2013-01-17 10:14:20          Raw Grace   \n",
       "\n",
       "                        email creation_source last_session_creation_time  \\\n",
       "0    AugustCClausen@yahoo.com    GUEST_INVITE        2014-04-22 03:53:30   \n",
       "1      MatthewPoole@gustr.com      ORG_INVITE        2014-03-31 03:45:04   \n",
       "2  MitchellBottrill@gustr.com      ORG_INVITE        2013-03-19 23:14:52   \n",
       "3   NicklasSClausen@yahoo.com    GUEST_INVITE        2013-05-22 08:09:28   \n",
       "4          GraceRaw@yahoo.com    GUEST_INVITE        2013-01-22 10:14:20   \n",
       "\n",
       "   opted_in_to_mailing_list  enabled_for_marketing_drip  org_id  \\\n",
       "0                         1                           0      11   \n",
       "1                         0                           0       1   \n",
       "2                         0                           0      94   \n",
       "3                         0                           0       1   \n",
       "4                         0                           0     193   \n",
       "\n",
       "  invited_by_user_id  adopted_user  \n",
       "0            10803.0             0  \n",
       "1              316.0             1  \n",
       "2             1525.0             0  \n",
       "3             5151.0             0  \n",
       "4             5240.0             0  "
      ]
     },
     "execution_count": 30,
     "metadata": {},
     "output_type": "execute_result"
    }
   ],
   "source": [
    "# Add predictor column\n",
    "users['adopted_user'] = users['object_id'].apply(lambda x: 1 if x in user_id_3 else 0)\n",
    "users.head()"
   ]
  },
  {
   "cell_type": "code",
   "execution_count": 31,
   "id": "fb5e030b-f9f9-4ede-908a-3611a04993fd",
   "metadata": {
    "tags": []
   },
   "outputs": [
    {
     "name": "stdout",
     "output_type": "stream",
     "text": [
      "<class 'pandas.core.frame.DataFrame'>\n",
      "Int64Index: 11980 entries, 0 to 11999\n",
      "Data columns (total 11 columns):\n",
      " #   Column                      Non-Null Count  Dtype         \n",
      "---  ------                      --------------  -----         \n",
      " 0   object_id                   11980 non-null  int64         \n",
      " 1   creation_time               11980 non-null  datetime64[ns]\n",
      " 2   name                        11980 non-null  object        \n",
      " 3   email                       11980 non-null  object        \n",
      " 4   creation_source             11980 non-null  object        \n",
      " 5   last_session_creation_time  11980 non-null  datetime64[ns]\n",
      " 6   opted_in_to_mailing_list    11980 non-null  int64         \n",
      " 7   enabled_for_marketing_drip  11980 non-null  int64         \n",
      " 8   org_id                      11980 non-null  int64         \n",
      " 9   invited_by_user_id          11980 non-null  object        \n",
      " 10  adopted_user                11980 non-null  int64         \n",
      "dtypes: datetime64[ns](2), int64(5), object(4)\n",
      "memory usage: 1.1+ MB\n"
     ]
    }
   ],
   "source": [
    "users.info()"
   ]
  },
  {
   "cell_type": "markdown",
   "id": "d3739f4e-d448-4d75-a7ad-00338abe3397",
   "metadata": {},
   "source": [
    "# Part 2 - EDA"
   ]
  },
  {
   "cell_type": "code",
   "execution_count": 47,
   "id": "e0eab6d1-3ff0-459c-9b61-4983e4068253",
   "metadata": {
    "tags": []
   },
   "outputs": [
    {
     "data": {
      "text/html": [
       "<div>\n",
       "<style scoped>\n",
       "    .dataframe tbody tr th:only-of-type {\n",
       "        vertical-align: middle;\n",
       "    }\n",
       "\n",
       "    .dataframe tbody tr th {\n",
       "        vertical-align: top;\n",
       "    }\n",
       "\n",
       "    .dataframe thead th {\n",
       "        text-align: right;\n",
       "    }\n",
       "</style>\n",
       "<table border=\"1\" class=\"dataframe\">\n",
       "  <thead>\n",
       "    <tr style=\"text-align: right;\">\n",
       "      <th></th>\n",
       "      <th>creation_time</th>\n",
       "      <th>creation_source</th>\n",
       "      <th>last_session_creation_time</th>\n",
       "      <th>opted_in_to_mailing_list</th>\n",
       "      <th>enabled_for_marketing_drip</th>\n",
       "      <th>org_id</th>\n",
       "      <th>invited_by_user_id</th>\n",
       "      <th>adopted_user</th>\n",
       "    </tr>\n",
       "  </thead>\n",
       "  <tbody>\n",
       "    <tr>\n",
       "      <th>0</th>\n",
       "      <td>2014-04-22 03:53:30</td>\n",
       "      <td>GUEST_INVITE</td>\n",
       "      <td>2014-04-22 03:53:30</td>\n",
       "      <td>1</td>\n",
       "      <td>0</td>\n",
       "      <td>11</td>\n",
       "      <td>10803.0</td>\n",
       "      <td>0</td>\n",
       "    </tr>\n",
       "    <tr>\n",
       "      <th>1</th>\n",
       "      <td>2013-11-15 03:45:04</td>\n",
       "      <td>ORG_INVITE</td>\n",
       "      <td>2014-03-31 03:45:04</td>\n",
       "      <td>0</td>\n",
       "      <td>0</td>\n",
       "      <td>1</td>\n",
       "      <td>316.0</td>\n",
       "      <td>1</td>\n",
       "    </tr>\n",
       "    <tr>\n",
       "      <th>2</th>\n",
       "      <td>2013-03-19 23:14:52</td>\n",
       "      <td>ORG_INVITE</td>\n",
       "      <td>2013-03-19 23:14:52</td>\n",
       "      <td>0</td>\n",
       "      <td>0</td>\n",
       "      <td>94</td>\n",
       "      <td>1525.0</td>\n",
       "      <td>0</td>\n",
       "    </tr>\n",
       "    <tr>\n",
       "      <th>3</th>\n",
       "      <td>2013-05-21 08:09:28</td>\n",
       "      <td>GUEST_INVITE</td>\n",
       "      <td>2013-05-22 08:09:28</td>\n",
       "      <td>0</td>\n",
       "      <td>0</td>\n",
       "      <td>1</td>\n",
       "      <td>5151.0</td>\n",
       "      <td>0</td>\n",
       "    </tr>\n",
       "    <tr>\n",
       "      <th>4</th>\n",
       "      <td>2013-01-17 10:14:20</td>\n",
       "      <td>GUEST_INVITE</td>\n",
       "      <td>2013-01-22 10:14:20</td>\n",
       "      <td>0</td>\n",
       "      <td>0</td>\n",
       "      <td>193</td>\n",
       "      <td>5240.0</td>\n",
       "      <td>0</td>\n",
       "    </tr>\n",
       "  </tbody>\n",
       "</table>\n",
       "</div>"
      ],
      "text/plain": [
       "        creation_time creation_source last_session_creation_time  \\\n",
       "0 2014-04-22 03:53:30    GUEST_INVITE        2014-04-22 03:53:30   \n",
       "1 2013-11-15 03:45:04      ORG_INVITE        2014-03-31 03:45:04   \n",
       "2 2013-03-19 23:14:52      ORG_INVITE        2013-03-19 23:14:52   \n",
       "3 2013-05-21 08:09:28    GUEST_INVITE        2013-05-22 08:09:28   \n",
       "4 2013-01-17 10:14:20    GUEST_INVITE        2013-01-22 10:14:20   \n",
       "\n",
       "   opted_in_to_mailing_list  enabled_for_marketing_drip  org_id  \\\n",
       "0                         1                           0      11   \n",
       "1                         0                           0       1   \n",
       "2                         0                           0      94   \n",
       "3                         0                           0       1   \n",
       "4                         0                           0     193   \n",
       "\n",
       "  invited_by_user_id  adopted_user  \n",
       "0            10803.0             0  \n",
       "1              316.0             1  \n",
       "2             1525.0             0  \n",
       "3             5151.0             0  \n",
       "4             5240.0             0  "
      ]
     },
     "execution_count": 47,
     "metadata": {},
     "output_type": "execute_result"
    }
   ],
   "source": [
    "# Select columns of interest\n",
    "data = users.drop(['object_id', 'name', 'email'], axis=1)\n",
    "data.head()"
   ]
  },
  {
   "cell_type": "code",
   "execution_count": 48,
   "id": "c58802b8-60a4-4c71-81e1-570666d21c60",
   "metadata": {
    "tags": []
   },
   "outputs": [],
   "source": [
    "#from dataprep.datasets import load_dataset\n",
    "#from dataprep.eda import create_report\n",
    "#create_report(data).show()"
   ]
  },
  {
   "cell_type": "code",
   "execution_count": 49,
   "id": "91403871-21c0-428d-8f71-4392eaae48ac",
   "metadata": {
    "tags": []
   },
   "outputs": [
    {
     "name": "stdout",
     "output_type": "stream",
     "text": [
      "<class 'pandas.core.frame.DataFrame'>\n",
      "Int64Index: 11980 entries, 0 to 11999\n",
      "Data columns (total 8 columns):\n",
      " #   Column                      Non-Null Count  Dtype         \n",
      "---  ------                      --------------  -----         \n",
      " 0   creation_time               11980 non-null  datetime64[ns]\n",
      " 1   creation_source             11980 non-null  object        \n",
      " 2   last_session_creation_time  11980 non-null  datetime64[ns]\n",
      " 3   opted_in_to_mailing_list    11980 non-null  int64         \n",
      " 4   enabled_for_marketing_drip  11980 non-null  int64         \n",
      " 5   org_id                      11980 non-null  int64         \n",
      " 6   invited_by_user_id          11980 non-null  object        \n",
      " 7   adopted_user                11980 non-null  int64         \n",
      "dtypes: datetime64[ns](2), int64(4), object(2)\n",
      "memory usage: 842.3+ KB\n"
     ]
    }
   ],
   "source": [
    "data.info()"
   ]
  },
  {
   "cell_type": "code",
   "execution_count": 50,
   "id": "ece1996d-33bb-4fa7-9e68-722ffac07072",
   "metadata": {
    "tags": []
   },
   "outputs": [
    {
     "data": {
      "image/png": "[encoded data removed]",
      "text/plain": [
       "<Figure size 1500x1500 with 6 Axes>"
      ]
     },
     "metadata": {},
     "output_type": "display_data"
    }
   ],
   "source": [
    "# Examine numeric variable distributions\n",
    "data.hist(figsize=(15,15))\n",
    "plt.subplots_adjust(hspace=0.5);"
   ]
  },
  {
   "cell_type": "markdown",
   "id": "901efde7-0e15-47de-8591-8e12041c3a2b",
   "metadata": {},
   "source": [
    "There are definitely imbalances in the counts for categorical data, including the target column (adopted_user). This could create some issues, and would be worth further exploration given more time. One way to deal with these imbalances would be resampling of the data."
   ]
  },
  {
   "cell_type": "code",
   "execution_count": 51,
   "id": "d5cd607f-d3b3-4ae6-8cd2-dbddb2518982",
   "metadata": {
    "tags": []
   },
   "outputs": [
    {
     "data": {
      "image/png": "[encoded data removed]",
      "text/plain": [
       "<Figure size 300x300 with 1 Axes>"
      ]
     },
     "metadata": {},
     "output_type": "display_data"
    }
   ],
   "source": [
    "# Plot\n",
    "fig, ax = plt.subplots(figsize=(3,3))\n",
    "\n",
    "data.adopted_user.value_counts().plot(kind='bar')\n",
    "ax.set_ylabel('Count')\n",
    "ax.set_xlabel('Adopted User')\n",
    "ax.set_title('User class distribution\\nwhere 1 means user was retained',\n",
    "              fontsize = 10)\n",
    "plt.show()"
   ]
  },
  {
   "cell_type": "markdown",
   "id": "09d55b56-eccb-4492-be01-5e279c1a509f",
   "metadata": {},
   "source": [
    "### Feature Engineering"
   ]
  },
  {
   "cell_type": "code",
   "execution_count": 52,
   "id": "8447b48c-5f1b-4fdd-a15a-b5f3dc6b47d4",
   "metadata": {
    "tags": []
   },
   "outputs": [
    {
     "data": {
      "text/html": [
       "<div>\n",
       "<style scoped>\n",
       "    .dataframe tbody tr th:only-of-type {\n",
       "        vertical-align: middle;\n",
       "    }\n",
       "\n",
       "    .dataframe tbody tr th {\n",
       "        vertical-align: top;\n",
       "    }\n",
       "\n",
       "    .dataframe thead th {\n",
       "        text-align: right;\n",
       "    }\n",
       "</style>\n",
       "<table border=\"1\" class=\"dataframe\">\n",
       "  <thead>\n",
       "    <tr style=\"text-align: right;\">\n",
       "      <th></th>\n",
       "      <th>creation_time</th>\n",
       "      <th>creation_source</th>\n",
       "      <th>last_session_creation_time</th>\n",
       "      <th>opted_in_to_mailing_list</th>\n",
       "      <th>enabled_for_marketing_drip</th>\n",
       "      <th>org_id</th>\n",
       "      <th>invited_by_user_id</th>\n",
       "      <th>adopted_user</th>\n",
       "      <th>days_since_user</th>\n",
       "    </tr>\n",
       "  </thead>\n",
       "  <tbody>\n",
       "    <tr>\n",
       "      <th>0</th>\n",
       "      <td>2014-04-22 03:53:30</td>\n",
       "      <td>GUEST_INVITE</td>\n",
       "      <td>2014-04-22 03:53:30</td>\n",
       "      <td>1</td>\n",
       "      <td>0</td>\n",
       "      <td>11</td>\n",
       "      <td>10803.0</td>\n",
       "      <td>0</td>\n",
       "      <td>0</td>\n",
       "    </tr>\n",
       "    <tr>\n",
       "      <th>1</th>\n",
       "      <td>2013-11-15 03:45:04</td>\n",
       "      <td>ORG_INVITE</td>\n",
       "      <td>2014-03-31 03:45:04</td>\n",
       "      <td>0</td>\n",
       "      <td>0</td>\n",
       "      <td>1</td>\n",
       "      <td>316.0</td>\n",
       "      <td>1</td>\n",
       "      <td>136</td>\n",
       "    </tr>\n",
       "    <tr>\n",
       "      <th>2</th>\n",
       "      <td>2013-03-19 23:14:52</td>\n",
       "      <td>ORG_INVITE</td>\n",
       "      <td>2013-03-19 23:14:52</td>\n",
       "      <td>0</td>\n",
       "      <td>0</td>\n",
       "      <td>94</td>\n",
       "      <td>1525.0</td>\n",
       "      <td>0</td>\n",
       "      <td>0</td>\n",
       "    </tr>\n",
       "    <tr>\n",
       "      <th>3</th>\n",
       "      <td>2013-05-21 08:09:28</td>\n",
       "      <td>GUEST_INVITE</td>\n",
       "      <td>2013-05-22 08:09:28</td>\n",
       "      <td>0</td>\n",
       "      <td>0</td>\n",
       "      <td>1</td>\n",
       "      <td>5151.0</td>\n",
       "      <td>0</td>\n",
       "      <td>1</td>\n",
       "    </tr>\n",
       "    <tr>\n",
       "      <th>4</th>\n",
       "      <td>2013-01-17 10:14:20</td>\n",
       "      <td>GUEST_INVITE</td>\n",
       "      <td>2013-01-22 10:14:20</td>\n",
       "      <td>0</td>\n",
       "      <td>0</td>\n",
       "      <td>193</td>\n",
       "      <td>5240.0</td>\n",
       "      <td>0</td>\n",
       "      <td>5</td>\n",
       "    </tr>\n",
       "  </tbody>\n",
       "</table>\n",
       "</div>"
      ],
      "text/plain": [
       "        creation_time creation_source last_session_creation_time  \\\n",
       "0 2014-04-22 03:53:30    GUEST_INVITE        2014-04-22 03:53:30   \n",
       "1 2013-11-15 03:45:04      ORG_INVITE        2014-03-31 03:45:04   \n",
       "2 2013-03-19 23:14:52      ORG_INVITE        2013-03-19 23:14:52   \n",
       "3 2013-05-21 08:09:28    GUEST_INVITE        2013-05-22 08:09:28   \n",
       "4 2013-01-17 10:14:20    GUEST_INVITE        2013-01-22 10:14:20   \n",
       "\n",
       "   opted_in_to_mailing_list  enabled_for_marketing_drip  org_id  \\\n",
       "0                         1                           0      11   \n",
       "1                         0                           0       1   \n",
       "2                         0                           0      94   \n",
       "3                         0                           0       1   \n",
       "4                         0                           0     193   \n",
       "\n",
       "  invited_by_user_id  adopted_user  days_since_user  \n",
       "0            10803.0             0                0  \n",
       "1              316.0             1              136  \n",
       "2             1525.0             0                0  \n",
       "3             5151.0             0                1  \n",
       "4             5240.0             0                5  "
      ]
     },
     "execution_count": 52,
     "metadata": {},
     "output_type": "execute_result"
    }
   ],
   "source": [
    "# Create a new column for time between creation and last login\n",
    "data['days_since_user'] = (data['last_session_creation_time'] - data['creation_time']).dt.days\n",
    "data.head()"
   ]
  },
  {
   "cell_type": "code",
   "execution_count": 53,
   "id": "8bf8c520-e4d5-4bfc-81e3-842982c33f96",
   "metadata": {
    "tags": []
   },
   "outputs": [
    {
     "data": {
      "text/plain": [
       "Timestamp('2014-05-30 23:59:19')"
      ]
     },
     "execution_count": 53,
     "metadata": {},
     "output_type": "execute_result"
    }
   ],
   "source": [
    "max(data.creation_time)"
   ]
  },
  {
   "cell_type": "code",
   "execution_count": 54,
   "id": "3b0949cf-2a03-4a72-8032-157101e7733d",
   "metadata": {
    "tags": []
   },
   "outputs": [
    {
     "data": {
      "text/plain": [
       "Timestamp('2012-05-31 00:43:27')"
      ]
     },
     "execution_count": 54,
     "metadata": {},
     "output_type": "execute_result"
    }
   ],
   "source": [
    "min(data.creation_time)"
   ]
  },
  {
   "cell_type": "code",
   "execution_count": 55,
   "id": "b14179e3-b485-446b-a78b-bef2dd479685",
   "metadata": {
    "tags": []
   },
   "outputs": [
    {
     "data": {
      "text/html": [
       "<div>\n",
       "<style scoped>\n",
       "    .dataframe tbody tr th:only-of-type {\n",
       "        vertical-align: middle;\n",
       "    }\n",
       "\n",
       "    .dataframe tbody tr th {\n",
       "        vertical-align: top;\n",
       "    }\n",
       "\n",
       "    .dataframe thead th {\n",
       "        text-align: right;\n",
       "    }\n",
       "</style>\n",
       "<table border=\"1\" class=\"dataframe\">\n",
       "  <thead>\n",
       "    <tr style=\"text-align: right;\">\n",
       "      <th></th>\n",
       "      <th>creation_time</th>\n",
       "      <th>creation_source</th>\n",
       "      <th>last_session_creation_time</th>\n",
       "      <th>opted_in_to_mailing_list</th>\n",
       "      <th>enabled_for_marketing_drip</th>\n",
       "      <th>org_id</th>\n",
       "      <th>invited_by_user_id</th>\n",
       "      <th>adopted_user</th>\n",
       "      <th>days_since_user</th>\n",
       "      <th>year_created</th>\n",
       "    </tr>\n",
       "  </thead>\n",
       "  <tbody>\n",
       "    <tr>\n",
       "      <th>0</th>\n",
       "      <td>2014-04-22 03:53:30</td>\n",
       "      <td>GUEST_INVITE</td>\n",
       "      <td>2014-04-22 03:53:30</td>\n",
       "      <td>1</td>\n",
       "      <td>0</td>\n",
       "      <td>11</td>\n",
       "      <td>10803.0</td>\n",
       "      <td>0</td>\n",
       "      <td>0</td>\n",
       "      <td>2014</td>\n",
       "    </tr>\n",
       "    <tr>\n",
       "      <th>1</th>\n",
       "      <td>2013-11-15 03:45:04</td>\n",
       "      <td>ORG_INVITE</td>\n",
       "      <td>2014-03-31 03:45:04</td>\n",
       "      <td>0</td>\n",
       "      <td>0</td>\n",
       "      <td>1</td>\n",
       "      <td>316.0</td>\n",
       "      <td>1</td>\n",
       "      <td>136</td>\n",
       "      <td>2013</td>\n",
       "    </tr>\n",
       "    <tr>\n",
       "      <th>2</th>\n",
       "      <td>2013-03-19 23:14:52</td>\n",
       "      <td>ORG_INVITE</td>\n",
       "      <td>2013-03-19 23:14:52</td>\n",
       "      <td>0</td>\n",
       "      <td>0</td>\n",
       "      <td>94</td>\n",
       "      <td>1525.0</td>\n",
       "      <td>0</td>\n",
       "      <td>0</td>\n",
       "      <td>2013</td>\n",
       "    </tr>\n",
       "    <tr>\n",
       "      <th>3</th>\n",
       "      <td>2013-05-21 08:09:28</td>\n",
       "      <td>GUEST_INVITE</td>\n",
       "      <td>2013-05-22 08:09:28</td>\n",
       "      <td>0</td>\n",
       "      <td>0</td>\n",
       "      <td>1</td>\n",
       "      <td>5151.0</td>\n",
       "      <td>0</td>\n",
       "      <td>1</td>\n",
       "      <td>2013</td>\n",
       "    </tr>\n",
       "    <tr>\n",
       "      <th>4</th>\n",
       "      <td>2013-01-17 10:14:20</td>\n",
       "      <td>GUEST_INVITE</td>\n",
       "      <td>2013-01-22 10:14:20</td>\n",
       "      <td>0</td>\n",
       "      <td>0</td>\n",
       "      <td>193</td>\n",
       "      <td>5240.0</td>\n",
       "      <td>0</td>\n",
       "      <td>5</td>\n",
       "      <td>2013</td>\n",
       "    </tr>\n",
       "  </tbody>\n",
       "</table>\n",
       "</div>"
      ],
      "text/plain": [
       "        creation_time creation_source last_session_creation_time  \\\n",
       "0 2014-04-22 03:53:30    GUEST_INVITE        2014-04-22 03:53:30   \n",
       "1 2013-11-15 03:45:04      ORG_INVITE        2014-03-31 03:45:04   \n",
       "2 2013-03-19 23:14:52      ORG_INVITE        2013-03-19 23:14:52   \n",
       "3 2013-05-21 08:09:28    GUEST_INVITE        2013-05-22 08:09:28   \n",
       "4 2013-01-17 10:14:20    GUEST_INVITE        2013-01-22 10:14:20   \n",
       "\n",
       "   opted_in_to_mailing_list  enabled_for_marketing_drip  org_id  \\\n",
       "0                         1                           0      11   \n",
       "1                         0                           0       1   \n",
       "2                         0                           0      94   \n",
       "3                         0                           0       1   \n",
       "4                         0                           0     193   \n",
       "\n",
       "  invited_by_user_id  adopted_user  days_since_user year_created  \n",
       "0            10803.0             0                0         2014  \n",
       "1              316.0             1              136         2013  \n",
       "2             1525.0             0                0         2013  \n",
       "3             5151.0             0                1         2013  \n",
       "4             5240.0             0                5         2013  "
      ]
     },
     "execution_count": 55,
     "metadata": {},
     "output_type": "execute_result"
    }
   ],
   "source": [
    "# Create a new column for year when account created\n",
    "data['year_created'] = data['creation_time'].dt.year.astype('object')\n",
    "data.head()"
   ]
  },
  {
   "cell_type": "code",
   "execution_count": 56,
   "id": "4769f669-6eda-4d6f-9564-a993051a8ea1",
   "metadata": {
    "tags": []
   },
   "outputs": [
    {
     "name": "stdout",
     "output_type": "stream",
     "text": [
      "<class 'pandas.core.frame.DataFrame'>\n",
      "Int64Index: 11980 entries, 0 to 11999\n",
      "Data columns (total 10 columns):\n",
      " #   Column                      Non-Null Count  Dtype         \n",
      "---  ------                      --------------  -----         \n",
      " 0   creation_time               11980 non-null  datetime64[ns]\n",
      " 1   creation_source             11980 non-null  object        \n",
      " 2   last_session_creation_time  11980 non-null  datetime64[ns]\n",
      " 3   opted_in_to_mailing_list    11980 non-null  int64         \n",
      " 4   enabled_for_marketing_drip  11980 non-null  int64         \n",
      " 5   org_id                      11980 non-null  int64         \n",
      " 6   invited_by_user_id          11980 non-null  object        \n",
      " 7   adopted_user                11980 non-null  int64         \n",
      " 8   days_since_user             11980 non-null  int64         \n",
      " 9   year_created                11980 non-null  object        \n",
      "dtypes: datetime64[ns](2), int64(5), object(3)\n",
      "memory usage: 1.0+ MB\n"
     ]
    }
   ],
   "source": [
    "data.info()"
   ]
  },
  {
   "cell_type": "code",
   "execution_count": 57,
   "id": "6fcb84fd-7182-4ddf-bd4d-8fa8d043ba0f",
   "metadata": {
    "tags": []
   },
   "outputs": [
    {
     "data": {
      "text/html": [
       "<div>\n",
       "<style scoped>\n",
       "    .dataframe tbody tr th:only-of-type {\n",
       "        vertical-align: middle;\n",
       "    }\n",
       "\n",
       "    .dataframe tbody tr th {\n",
       "        vertical-align: top;\n",
       "    }\n",
       "\n",
       "    .dataframe thead th {\n",
       "        text-align: right;\n",
       "    }\n",
       "</style>\n",
       "<table border=\"1\" class=\"dataframe\">\n",
       "  <thead>\n",
       "    <tr style=\"text-align: right;\">\n",
       "      <th></th>\n",
       "      <th>creation_source</th>\n",
       "      <th>opted_in_to_mailing_list</th>\n",
       "      <th>enabled_for_marketing_drip</th>\n",
       "      <th>org_id</th>\n",
       "      <th>invited_by_user_id</th>\n",
       "      <th>adopted_user</th>\n",
       "      <th>days_since_user</th>\n",
       "      <th>year_created</th>\n",
       "    </tr>\n",
       "  </thead>\n",
       "  <tbody>\n",
       "    <tr>\n",
       "      <th>0</th>\n",
       "      <td>GUEST_INVITE</td>\n",
       "      <td>1</td>\n",
       "      <td>0</td>\n",
       "      <td>11</td>\n",
       "      <td>10803.0</td>\n",
       "      <td>0</td>\n",
       "      <td>0</td>\n",
       "      <td>2014</td>\n",
       "    </tr>\n",
       "    <tr>\n",
       "      <th>1</th>\n",
       "      <td>ORG_INVITE</td>\n",
       "      <td>0</td>\n",
       "      <td>0</td>\n",
       "      <td>1</td>\n",
       "      <td>316.0</td>\n",
       "      <td>1</td>\n",
       "      <td>136</td>\n",
       "      <td>2013</td>\n",
       "    </tr>\n",
       "    <tr>\n",
       "      <th>2</th>\n",
       "      <td>ORG_INVITE</td>\n",
       "      <td>0</td>\n",
       "      <td>0</td>\n",
       "      <td>94</td>\n",
       "      <td>1525.0</td>\n",
       "      <td>0</td>\n",
       "      <td>0</td>\n",
       "      <td>2013</td>\n",
       "    </tr>\n",
       "    <tr>\n",
       "      <th>3</th>\n",
       "      <td>GUEST_INVITE</td>\n",
       "      <td>0</td>\n",
       "      <td>0</td>\n",
       "      <td>1</td>\n",
       "      <td>5151.0</td>\n",
       "      <td>0</td>\n",
       "      <td>1</td>\n",
       "      <td>2013</td>\n",
       "    </tr>\n",
       "    <tr>\n",
       "      <th>4</th>\n",
       "      <td>GUEST_INVITE</td>\n",
       "      <td>0</td>\n",
       "      <td>0</td>\n",
       "      <td>193</td>\n",
       "      <td>5240.0</td>\n",
       "      <td>0</td>\n",
       "      <td>5</td>\n",
       "      <td>2013</td>\n",
       "    </tr>\n",
       "    <tr>\n",
       "      <th>...</th>\n",
       "      <td>...</td>\n",
       "      <td>...</td>\n",
       "      <td>...</td>\n",
       "      <td>...</td>\n",
       "      <td>...</td>\n",
       "      <td>...</td>\n",
       "      <td>...</td>\n",
       "      <td>...</td>\n",
       "    </tr>\n",
       "    <tr>\n",
       "      <th>11995</th>\n",
       "      <td>ORG_INVITE</td>\n",
       "      <td>0</td>\n",
       "      <td>0</td>\n",
       "      <td>89</td>\n",
       "      <td>8263.0</td>\n",
       "      <td>0</td>\n",
       "      <td>0</td>\n",
       "      <td>2013</td>\n",
       "    </tr>\n",
       "    <tr>\n",
       "      <th>11996</th>\n",
       "      <td>SIGNUP_GOOGLE_AUTH</td>\n",
       "      <td>0</td>\n",
       "      <td>0</td>\n",
       "      <td>200</td>\n",
       "      <td>Unknown</td>\n",
       "      <td>0</td>\n",
       "      <td>5</td>\n",
       "      <td>2013</td>\n",
       "    </tr>\n",
       "    <tr>\n",
       "      <th>11997</th>\n",
       "      <td>GUEST_INVITE</td>\n",
       "      <td>1</td>\n",
       "      <td>1</td>\n",
       "      <td>83</td>\n",
       "      <td>8074.0</td>\n",
       "      <td>0</td>\n",
       "      <td>0</td>\n",
       "      <td>2014</td>\n",
       "    </tr>\n",
       "    <tr>\n",
       "      <th>11998</th>\n",
       "      <td>PERSONAL_PROJECTS</td>\n",
       "      <td>0</td>\n",
       "      <td>0</td>\n",
       "      <td>6</td>\n",
       "      <td>Unknown</td>\n",
       "      <td>0</td>\n",
       "      <td>2</td>\n",
       "      <td>2012</td>\n",
       "    </tr>\n",
       "    <tr>\n",
       "      <th>11999</th>\n",
       "      <td>SIGNUP</td>\n",
       "      <td>0</td>\n",
       "      <td>1</td>\n",
       "      <td>0</td>\n",
       "      <td>Unknown</td>\n",
       "      <td>0</td>\n",
       "      <td>0</td>\n",
       "      <td>2014</td>\n",
       "    </tr>\n",
       "  </tbody>\n",
       "</table>\n",
       "<p>11980 rows × 8 columns</p>\n",
       "</div>"
      ],
      "text/plain": [
       "          creation_source  opted_in_to_mailing_list  \\\n",
       "0            GUEST_INVITE                         1   \n",
       "1              ORG_INVITE                         0   \n",
       "2              ORG_INVITE                         0   \n",
       "3            GUEST_INVITE                         0   \n",
       "4            GUEST_INVITE                         0   \n",
       "...                   ...                       ...   \n",
       "11995          ORG_INVITE                         0   \n",
       "11996  SIGNUP_GOOGLE_AUTH                         0   \n",
       "11997        GUEST_INVITE                         1   \n",
       "11998   PERSONAL_PROJECTS                         0   \n",
       "11999              SIGNUP                         0   \n",
       "\n",
       "       enabled_for_marketing_drip  org_id invited_by_user_id  adopted_user  \\\n",
       "0                               0      11            10803.0             0   \n",
       "1                               0       1              316.0             1   \n",
       "2                               0      94             1525.0             0   \n",
       "3                               0       1             5151.0             0   \n",
       "4                               0     193             5240.0             0   \n",
       "...                           ...     ...                ...           ...   \n",
       "11995                           0      89             8263.0             0   \n",
       "11996                           0     200            Unknown             0   \n",
       "11997                           1      83             8074.0             0   \n",
       "11998                           0       6            Unknown             0   \n",
       "11999                           1       0            Unknown             0   \n",
       "\n",
       "       days_since_user year_created  \n",
       "0                    0         2014  \n",
       "1                  136         2013  \n",
       "2                    0         2013  \n",
       "3                    1         2013  \n",
       "4                    5         2013  \n",
       "...                ...          ...  \n",
       "11995                0         2013  \n",
       "11996                5         2013  \n",
       "11997                0         2014  \n",
       "11998                2         2012  \n",
       "11999                0         2014  \n",
       "\n",
       "[11980 rows x 8 columns]"
      ]
     },
     "execution_count": 57,
     "metadata": {},
     "output_type": "execute_result"
    }
   ],
   "source": [
    "# Drop datetime columns from dataframe\n",
    "data_mod = data.drop(['creation_time', 'last_session_creation_time'], axis=1)\n",
    "data_mod"
   ]
  },
  {
   "cell_type": "code",
   "execution_count": 58,
   "id": "0bbb2803-5265-4f92-8aab-3a6d447381b4",
   "metadata": {
    "tags": []
   },
   "outputs": [
    {
     "name": "stdout",
     "output_type": "stream",
     "text": [
      "<class 'pandas.core.frame.DataFrame'>\n",
      "Int64Index: 11980 entries, 0 to 11999\n",
      "Data columns (total 8 columns):\n",
      " #   Column                      Non-Null Count  Dtype \n",
      "---  ------                      --------------  ----- \n",
      " 0   creation_source             11980 non-null  object\n",
      " 1   opted_in_to_mailing_list    11980 non-null  int64 \n",
      " 2   enabled_for_marketing_drip  11980 non-null  int64 \n",
      " 3   org_id                      11980 non-null  int64 \n",
      " 4   invited_by_user_id          11980 non-null  object\n",
      " 5   adopted_user                11980 non-null  int64 \n",
      " 6   days_since_user             11980 non-null  int64 \n",
      " 7   year_created                11980 non-null  object\n",
      "dtypes: int64(5), object(3)\n",
      "memory usage: 842.3+ KB\n"
     ]
    }
   ],
   "source": [
    "data_mod.info()"
   ]
  },
  {
   "cell_type": "code",
   "execution_count": 59,
   "id": "331d937a-73af-4fd5-9133-ff52011b9dcd",
   "metadata": {
    "tags": []
   },
   "outputs": [
    {
     "data": {
      "text/plain": [
       "Unknown    5571\n",
       "10741.0      13\n",
       "2527.0       12\n",
       "1525.0       11\n",
       "2308.0       11\n",
       "           ... \n",
       "1390.0        1\n",
       "5445.0        1\n",
       "8526.0        1\n",
       "4695.0        1\n",
       "5450.0        1\n",
       "Name: invited_by_user_id, Length: 2563, dtype: int64"
      ]
     },
     "execution_count": 59,
     "metadata": {},
     "output_type": "execute_result"
    }
   ],
   "source": [
    "data_mod['invited_by_user_id'].value_counts()"
   ]
  },
  {
   "cell_type": "markdown",
   "id": "aefb6500-c752-4da6-8c60-57ccdb432b28",
   "metadata": {},
   "source": [
    "Everything is looking good except the invited_by_user_id column, which is object data type because it contains both object_id numbers and values of \"unknown\" where there was missing data. <br> \n",
    "<br> \n",
    "The best options at this point are to either remove rows where the object_id was unknown, or remove the column entirely. I'm going to drop this column because it's unlikely to be important in the model, and I don't want to lose 5571 rows of data from the other columns. This is something that could be revisited later."
   ]
  },
  {
   "cell_type": "code",
   "execution_count": 60,
   "id": "8e184238-464b-4798-86e4-251b4b591002",
   "metadata": {
    "tags": []
   },
   "outputs": [
    {
     "data": {
      "text/html": [
       "<div>\n",
       "<style scoped>\n",
       "    .dataframe tbody tr th:only-of-type {\n",
       "        vertical-align: middle;\n",
       "    }\n",
       "\n",
       "    .dataframe tbody tr th {\n",
       "        vertical-align: top;\n",
       "    }\n",
       "\n",
       "    .dataframe thead th {\n",
       "        text-align: right;\n",
       "    }\n",
       "</style>\n",
       "<table border=\"1\" class=\"dataframe\">\n",
       "  <thead>\n",
       "    <tr style=\"text-align: right;\">\n",
       "      <th></th>\n",
       "      <th>creation_source</th>\n",
       "      <th>opted_in_to_mailing_list</th>\n",
       "      <th>enabled_for_marketing_drip</th>\n",
       "      <th>org_id</th>\n",
       "      <th>adopted_user</th>\n",
       "      <th>days_since_user</th>\n",
       "      <th>year_created</th>\n",
       "    </tr>\n",
       "  </thead>\n",
       "  <tbody>\n",
       "    <tr>\n",
       "      <th>0</th>\n",
       "      <td>GUEST_INVITE</td>\n",
       "      <td>1</td>\n",
       "      <td>0</td>\n",
       "      <td>11</td>\n",
       "      <td>0</td>\n",
       "      <td>0</td>\n",
       "      <td>2014</td>\n",
       "    </tr>\n",
       "    <tr>\n",
       "      <th>1</th>\n",
       "      <td>ORG_INVITE</td>\n",
       "      <td>0</td>\n",
       "      <td>0</td>\n",
       "      <td>1</td>\n",
       "      <td>1</td>\n",
       "      <td>136</td>\n",
       "      <td>2013</td>\n",
       "    </tr>\n",
       "    <tr>\n",
       "      <th>2</th>\n",
       "      <td>ORG_INVITE</td>\n",
       "      <td>0</td>\n",
       "      <td>0</td>\n",
       "      <td>94</td>\n",
       "      <td>0</td>\n",
       "      <td>0</td>\n",
       "      <td>2013</td>\n",
       "    </tr>\n",
       "    <tr>\n",
       "      <th>3</th>\n",
       "      <td>GUEST_INVITE</td>\n",
       "      <td>0</td>\n",
       "      <td>0</td>\n",
       "      <td>1</td>\n",
       "      <td>0</td>\n",
       "      <td>1</td>\n",
       "      <td>2013</td>\n",
       "    </tr>\n",
       "    <tr>\n",
       "      <th>4</th>\n",
       "      <td>GUEST_INVITE</td>\n",
       "      <td>0</td>\n",
       "      <td>0</td>\n",
       "      <td>193</td>\n",
       "      <td>0</td>\n",
       "      <td>5</td>\n",
       "      <td>2013</td>\n",
       "    </tr>\n",
       "    <tr>\n",
       "      <th>...</th>\n",
       "      <td>...</td>\n",
       "      <td>...</td>\n",
       "      <td>...</td>\n",
       "      <td>...</td>\n",
       "      <td>...</td>\n",
       "      <td>...</td>\n",
       "      <td>...</td>\n",
       "    </tr>\n",
       "    <tr>\n",
       "      <th>11995</th>\n",
       "      <td>ORG_INVITE</td>\n",
       "      <td>0</td>\n",
       "      <td>0</td>\n",
       "      <td>89</td>\n",
       "      <td>0</td>\n",
       "      <td>0</td>\n",
       "      <td>2013</td>\n",
       "    </tr>\n",
       "    <tr>\n",
       "      <th>11996</th>\n",
       "      <td>SIGNUP_GOOGLE_AUTH</td>\n",
       "      <td>0</td>\n",
       "      <td>0</td>\n",
       "      <td>200</td>\n",
       "      <td>0</td>\n",
       "      <td>5</td>\n",
       "      <td>2013</td>\n",
       "    </tr>\n",
       "    <tr>\n",
       "      <th>11997</th>\n",
       "      <td>GUEST_INVITE</td>\n",
       "      <td>1</td>\n",
       "      <td>1</td>\n",
       "      <td>83</td>\n",
       "      <td>0</td>\n",
       "      <td>0</td>\n",
       "      <td>2014</td>\n",
       "    </tr>\n",
       "    <tr>\n",
       "      <th>11998</th>\n",
       "      <td>PERSONAL_PROJECTS</td>\n",
       "      <td>0</td>\n",
       "      <td>0</td>\n",
       "      <td>6</td>\n",
       "      <td>0</td>\n",
       "      <td>2</td>\n",
       "      <td>2012</td>\n",
       "    </tr>\n",
       "    <tr>\n",
       "      <th>11999</th>\n",
       "      <td>SIGNUP</td>\n",
       "      <td>0</td>\n",
       "      <td>1</td>\n",
       "      <td>0</td>\n",
       "      <td>0</td>\n",
       "      <td>0</td>\n",
       "      <td>2014</td>\n",
       "    </tr>\n",
       "  </tbody>\n",
       "</table>\n",
       "<p>11980 rows × 7 columns</p>\n",
       "</div>"
      ],
      "text/plain": [
       "          creation_source  opted_in_to_mailing_list  \\\n",
       "0            GUEST_INVITE                         1   \n",
       "1              ORG_INVITE                         0   \n",
       "2              ORG_INVITE                         0   \n",
       "3            GUEST_INVITE                         0   \n",
       "4            GUEST_INVITE                         0   \n",
       "...                   ...                       ...   \n",
       "11995          ORG_INVITE                         0   \n",
       "11996  SIGNUP_GOOGLE_AUTH                         0   \n",
       "11997        GUEST_INVITE                         1   \n",
       "11998   PERSONAL_PROJECTS                         0   \n",
       "11999              SIGNUP                         0   \n",
       "\n",
       "       enabled_for_marketing_drip  org_id  adopted_user  days_since_user  \\\n",
       "0                               0      11             0                0   \n",
       "1                               0       1             1              136   \n",
       "2                               0      94             0                0   \n",
       "3                               0       1             0                1   \n",
       "4                               0     193             0                5   \n",
       "...                           ...     ...           ...              ...   \n",
       "11995                           0      89             0                0   \n",
       "11996                           0     200             0                5   \n",
       "11997                           1      83             0                0   \n",
       "11998                           0       6             0                2   \n",
       "11999                           1       0             0                0   \n",
       "\n",
       "      year_created  \n",
       "0             2014  \n",
       "1             2013  \n",
       "2             2013  \n",
       "3             2013  \n",
       "4             2013  \n",
       "...            ...  \n",
       "11995         2013  \n",
       "11996         2013  \n",
       "11997         2014  \n",
       "11998         2012  \n",
       "11999         2014  \n",
       "\n",
       "[11980 rows x 7 columns]"
      ]
     },
     "execution_count": 60,
     "metadata": {},
     "output_type": "execute_result"
    }
   ],
   "source": [
    "data_mod = data_mod.drop(['invited_by_user_id'], axis=1)\n",
    "data_mod"
   ]
  },
  {
   "cell_type": "markdown",
   "id": "717dbbef-01fd-425d-b96f-5c5d11e2f522",
   "metadata": {},
   "source": [
    "## Part 3 - Modeling\n",
    "With the target variable of \"adopted user\" (a user who has logged into the product on three separate days in at least one seven day period), identify which factors predict future user adoption.\n",
    "\n",
    "This is a binary classification problem, so we'll try out a logistic regression classifier first."
   ]
  },
  {
   "cell_type": "code",
   "execution_count": 61,
   "id": "a352ce4d-bd70-46ea-b41f-2c780c2ddc02",
   "metadata": {
    "tags": []
   },
   "outputs": [],
   "source": [
    "# Load packages\n",
    "from sklearn.preprocessing import StandardScaler, OneHotEncoder, MinMaxScaler\n",
    "from sklearn.model_selection import train_test_split, cross_validate\n",
    "from sklearn.pipeline import make_pipeline\n",
    "\n",
    "from sklearn.linear_model import LogisticRegression\n",
    "from sklearn.ensemble import RandomForestClassifier, GradientBoostingClassifier\n",
    "from sklearn.svm import SVC\n",
    "from sklearn.metrics import accuracy_score, f1_score, recall_score, classification_report, confusion_matrix, ConfusionMatrixDisplay\n",
    "\n",
    "from sklearn.compose import make_column_selector as selector\n",
    "from sklearn.compose import ColumnTransformer\n"
   ]
  },
  {
   "cell_type": "code",
   "execution_count": 62,
   "id": "368098bc-3b24-4f1e-80ce-4d7367dd2f0e",
   "metadata": {
    "tags": []
   },
   "outputs": [
    {
     "data": {
      "text/html": [
       "<div>\n",
       "<style scoped>\n",
       "    .dataframe tbody tr th:only-of-type {\n",
       "        vertical-align: middle;\n",
       "    }\n",
       "\n",
       "    .dataframe tbody tr th {\n",
       "        vertical-align: top;\n",
       "    }\n",
       "\n",
       "    .dataframe thead th {\n",
       "        text-align: right;\n",
       "    }\n",
       "</style>\n",
       "<table border=\"1\" class=\"dataframe\">\n",
       "  <thead>\n",
       "    <tr style=\"text-align: right;\">\n",
       "      <th></th>\n",
       "      <th>creation_source</th>\n",
       "      <th>opted_in_to_mailing_list</th>\n",
       "      <th>enabled_for_marketing_drip</th>\n",
       "      <th>org_id</th>\n",
       "      <th>adopted_user</th>\n",
       "      <th>days_since_user</th>\n",
       "      <th>year_created</th>\n",
       "    </tr>\n",
       "  </thead>\n",
       "  <tbody>\n",
       "    <tr>\n",
       "      <th>0</th>\n",
       "      <td>GUEST_INVITE</td>\n",
       "      <td>1</td>\n",
       "      <td>0</td>\n",
       "      <td>11</td>\n",
       "      <td>0</td>\n",
       "      <td>0</td>\n",
       "      <td>2014</td>\n",
       "    </tr>\n",
       "    <tr>\n",
       "      <th>1</th>\n",
       "      <td>ORG_INVITE</td>\n",
       "      <td>0</td>\n",
       "      <td>0</td>\n",
       "      <td>1</td>\n",
       "      <td>1</td>\n",
       "      <td>136</td>\n",
       "      <td>2013</td>\n",
       "    </tr>\n",
       "    <tr>\n",
       "      <th>2</th>\n",
       "      <td>ORG_INVITE</td>\n",
       "      <td>0</td>\n",
       "      <td>0</td>\n",
       "      <td>94</td>\n",
       "      <td>0</td>\n",
       "      <td>0</td>\n",
       "      <td>2013</td>\n",
       "    </tr>\n",
       "    <tr>\n",
       "      <th>3</th>\n",
       "      <td>GUEST_INVITE</td>\n",
       "      <td>0</td>\n",
       "      <td>0</td>\n",
       "      <td>1</td>\n",
       "      <td>0</td>\n",
       "      <td>1</td>\n",
       "      <td>2013</td>\n",
       "    </tr>\n",
       "    <tr>\n",
       "      <th>4</th>\n",
       "      <td>GUEST_INVITE</td>\n",
       "      <td>0</td>\n",
       "      <td>0</td>\n",
       "      <td>193</td>\n",
       "      <td>0</td>\n",
       "      <td>5</td>\n",
       "      <td>2013</td>\n",
       "    </tr>\n",
       "  </tbody>\n",
       "</table>\n",
       "</div>"
      ],
      "text/plain": [
       "  creation_source  opted_in_to_mailing_list  enabled_for_marketing_drip  \\\n",
       "0    GUEST_INVITE                         1                           0   \n",
       "1      ORG_INVITE                         0                           0   \n",
       "2      ORG_INVITE                         0                           0   \n",
       "3    GUEST_INVITE                         0                           0   \n",
       "4    GUEST_INVITE                         0                           0   \n",
       "\n",
       "   org_id  adopted_user  days_since_user year_created  \n",
       "0      11             0                0         2014  \n",
       "1       1             1              136         2013  \n",
       "2      94             0                0         2013  \n",
       "3       1             0                1         2013  \n",
       "4     193             0                5         2013  "
      ]
     },
     "execution_count": 62,
     "metadata": {},
     "output_type": "execute_result"
    }
   ],
   "source": [
    "data_mod.head()"
   ]
  },
  {
   "cell_type": "code",
   "execution_count": 63,
   "id": "c8c27085-3f8b-40b3-aed5-40a3c2744dfa",
   "metadata": {
    "tags": []
   },
   "outputs": [],
   "source": [
    "# Testing out modeling pipeline without 'days_since_user' feature\n",
    "\n",
    "#dat_new = data_mod.drop(['days_since_user'], axis=1)\n",
    "#dat_new.head()"
   ]
  },
  {
   "cell_type": "code",
   "execution_count": 64,
   "id": "a81816f3-a8a1-47f5-ac3a-da13305c8d4c",
   "metadata": {
    "tags": []
   },
   "outputs": [
    {
     "name": "stdout",
     "output_type": "stream",
     "text": [
      "<class 'pandas.core.frame.DataFrame'>\n",
      "Int64Index: 11980 entries, 0 to 11999\n",
      "Data columns (total 6 columns):\n",
      " #   Column                      Non-Null Count  Dtype \n",
      "---  ------                      --------------  ----- \n",
      " 0   creation_source             11980 non-null  object\n",
      " 1   opted_in_to_mailing_list    11980 non-null  int64 \n",
      " 2   enabled_for_marketing_drip  11980 non-null  int64 \n",
      " 3   org_id                      11980 non-null  int64 \n",
      " 4   days_since_user             11980 non-null  int64 \n",
      " 5   year_created                11980 non-null  object\n",
      "dtypes: int64(4), object(2)\n",
      "memory usage: 655.2+ KB\n"
     ]
    }
   ],
   "source": [
    "# Define target (y-variable)\n",
    "target_name = \"adopted_user\"\n",
    "target = data_mod[target_name]\n",
    "\n",
    "dat = data_mod.drop(columns=[target_name])\n",
    "dat.info()"
   ]
  },
  {
   "cell_type": "code",
   "execution_count": 65,
   "id": "cd460e65-a348-4247-aa64-31fc2885e962",
   "metadata": {
    "tags": []
   },
   "outputs": [
    {
     "name": "stdout",
     "output_type": "stream",
     "text": [
      "Numerical features: ['opted_in_to_mailing_list', 'enabled_for_marketing_drip', 'org_id', 'days_since_user']\n",
      "Categorical features: ['creation_source', 'year_created']\n"
     ]
    }
   ],
   "source": [
    "# Select columns based on data type (categorical)\n",
    "numerical_columns_selector = selector(dtype_exclude=[object])\n",
    "categorical_columns_selector = selector(dtype_include=[object])\n",
    "\n",
    "numerical_features = numerical_columns_selector(dat) # apply StandardScalar\n",
    "categorical_features = categorical_columns_selector(dat) # one-hot-encode these features\n",
    "\n",
    "print('Numerical features:', numerical_features)\n",
    "print('Categorical features:', categorical_features)"
   ]
  },
  {
   "cell_type": "code",
   "execution_count": 66,
   "id": "b040f05e-9431-4ac6-b9d0-84a4d0156c94",
   "metadata": {
    "tags": []
   },
   "outputs": [],
   "source": [
    "# Create the preprocessors for the numerical and categorical columns \n",
    "preprocessor = ColumnTransformer(\n",
    "    transformers=[\n",
    "        ('standard-scaler', StandardScaler(), numerical_features), \n",
    "        ('one-hot-encoder', OneHotEncoder(handle_unknown=\"ignore\"), categorical_features)],\n",
    "    remainder='passthrough')"
   ]
  },
  {
   "cell_type": "code",
   "execution_count": 67,
   "id": "a6685413-0cb6-4d96-8adf-e1b38d8cf37b",
   "metadata": {
    "tags": []
   },
   "outputs": [],
   "source": [
    "# First split the data into train and test set\n",
    "X_train, X_test, y_train, y_test = train_test_split(dat, target,\n",
    "                                            test_size=0.2, \n",
    "                                            random_state=43)"
   ]
  },
  {
   "cell_type": "code",
   "execution_count": 68,
   "id": "abd1e428-c5fc-4010-a751-3b5bb048bda5",
   "metadata": {
    "tags": []
   },
   "outputs": [
    {
     "name": "stdout",
     "output_type": "stream",
     "text": [
      "(9584, 6)\n",
      "(2396, 6)\n",
      "(9584,)\n",
      "(2396,)\n"
     ]
    }
   ],
   "source": [
    "# Check shape of data\n",
    "print(X_train.shape)\n",
    "print(X_test.shape)\n",
    "print(y_train.shape)\n",
    "print(y_test.shape)"
   ]
  },
  {
   "cell_type": "code",
   "execution_count": 69,
   "id": "4c342f75-199c-4d45-8f85-aa5a3d6fb64b",
   "metadata": {
    "tags": []
   },
   "outputs": [],
   "source": [
    "# Process the data using ColumnTransformer\n",
    "X_tr = preprocessor.fit_transform(X_train)\n",
    "X_te = preprocessor.transform(X_test)\n",
    "y_tr = y_train\n",
    "y_te = y_test"
   ]
  },
  {
   "cell_type": "code",
   "execution_count": 70,
   "id": "44b9d3ac-6ced-4e09-9ba2-efc58fbc1c48",
   "metadata": {
    "tags": []
   },
   "outputs": [],
   "source": [
    "# Instantiate model\n",
    "lrmod = LogisticRegression()\n",
    "\n",
    "# Fit and predict\n",
    "lrmod.fit(X_tr, y_tr)\n",
    "y_pred = lrmod.predict(X_te)"
   ]
  },
  {
   "cell_type": "code",
   "execution_count": 71,
   "id": "8532a99f-be08-4d65-a708-b610f965f201",
   "metadata": {
    "tags": []
   },
   "outputs": [
    {
     "name": "stdout",
     "output_type": "stream",
     "text": [
      "Accuracy score (train): 0.975\n",
      "Accuracy score (test): 0.970\n"
     ]
    }
   ],
   "source": [
    "print(\"Accuracy score (train): {0:.3f}\".format(lrmod.score(X_tr, y_tr)))\n",
    "print(\"Accuracy score (test): {0:.3f}\".format(lrmod.score(X_te, y_te)))"
   ]
  },
  {
   "cell_type": "code",
   "execution_count": 72,
   "id": "47b613c9-20a8-42af-acfd-8f653c212082",
   "metadata": {
    "tags": []
   },
   "outputs": [
    {
     "name": "stdout",
     "output_type": "stream",
     "text": [
      "              precision    recall  f1-score   support\n",
      "\n",
      " Not Adopted       0.98      0.99      0.98      2069\n",
      "     Adopted       0.93      0.84      0.88       327\n",
      "\n",
      "    accuracy                           0.97      2396\n",
      "   macro avg       0.95      0.92      0.93      2396\n",
      "weighted avg       0.97      0.97      0.97      2396\n",
      "\n"
     ]
    }
   ],
   "source": [
    "# Classification report\n",
    "target_names = ['Not Adopted', 'Adopted']\n",
    "print(classification_report(y_te, y_pred, target_names=target_names))"
   ]
  },
  {
   "cell_type": "code",
   "execution_count": 73,
   "id": "afcae2d1-903d-4916-9dfc-2f49d8d7a5ef",
   "metadata": {
    "tags": []
   },
   "outputs": [
    {
     "data": {
      "image/png": "[encoded data removed]",
      "text/plain": [
       "<Figure size 400x400 with 2 Axes>"
      ]
     },
     "metadata": {},
     "output_type": "display_data"
    }
   ],
   "source": [
    "cm = confusion_matrix(y_te, y_pred)\n",
    "display_cm = ConfusionMatrixDisplay(confusion_matrix = cm, \n",
    "                                    display_labels = target_names)\n",
    "\n",
    "fig, ax = plt.subplots(figsize=(4,4))\n",
    "display_cm.plot(ax=ax)\n",
    "plt.show()"
   ]
  },
  {
   "cell_type": "code",
   "execution_count": 74,
   "id": "8dd81620-b2a2-4842-b1d7-c9af837e1cb7",
   "metadata": {
    "tags": []
   },
   "outputs": [
    {
     "data": {
      "text/plain": [
       "[('standard-scaler',\n",
       "  StandardScaler(),\n",
       "  ['opted_in_to_mailing_list',\n",
       "   'enabled_for_marketing_drip',\n",
       "   'org_id',\n",
       "   'days_since_user']),\n",
       " ('one-hot-encoder',\n",
       "  OneHotEncoder(handle_unknown='ignore'),\n",
       "  ['creation_source', 'year_created'])]"
      ]
     },
     "execution_count": 74,
     "metadata": {},
     "output_type": "execute_result"
    }
   ],
   "source": [
    "# Visualize feature importances\n",
    "preprocessor.transformers_"
   ]
  },
  {
   "cell_type": "code",
   "execution_count": 75,
   "id": "d5b72438-3f96-4319-9075-720e6b8f40d1",
   "metadata": {
    "tags": []
   },
   "outputs": [
    {
     "name": "stdout",
     "output_type": "stream",
     "text": [
      "['standard-scaler_opted_in_to_mailing_list', 'standard-scaler_enabled_for_marketing_drip', 'standard-scaler_org_id', 'standard-scaler_days_since_user', 'one-hot-encoder_creation_source_GUEST_INVITE', 'one-hot-encoder_creation_source_ORG_INVITE', 'one-hot-encoder_creation_source_PERSONAL_PROJECTS', 'one-hot-encoder_creation_source_SIGNUP', 'one-hot-encoder_creation_source_SIGNUP_GOOGLE_AUTH', 'one-hot-encoder_year_created_2012', 'one-hot-encoder_year_created_2013', 'one-hot-encoder_year_created_2014']\n"
     ]
    },
    {
     "data": {
      "text/plain": [
       "list"
      ]
     },
     "execution_count": 75,
     "metadata": {},
     "output_type": "execute_result"
    }
   ],
   "source": [
    "# Extract feature names from ColumnTransformer\n",
    "feature_names = []\n",
    "for name, transformer, features in preprocessor.transformers_:\n",
    "    if hasattr(transformer, 'get_feature_names_out'):\n",
    "        feature_names.extend(\n",
    "            [f\"{name}_{f}\" for f in transformer.get_feature_names_out(features)])\n",
    "    else:\n",
    "        feature_names.extend(features)\n",
    "print(feature_names)\n",
    "type(feature_names)"
   ]
  },
  {
   "cell_type": "code",
   "execution_count": 76,
   "id": "8ee85883-e565-4dec-adc7-9595b2cf1b11",
   "metadata": {
    "tags": []
   },
   "outputs": [
    {
     "name": "stdout",
     "output_type": "stream",
     "text": [
      "['opted_in_to_mailing_list', 'enabled_for_marketing_drip', 'org_id', 'days_since_user', 'creation_source_GUEST_INVITE', 'creation_source_ORG_INVITE', 'creation_source_PERSONAL_PROJECTS', 'creation_source_SIGNUP', 'creation_source_SIGNUP_GOOGLE_AUTH', 'year_created_2012', 'year_created_2013', 'year_created_2014']\n"
     ]
    }
   ],
   "source": [
    "# Replace substring in list of strings\n",
    "f1 = [x.replace(\"standard-scaler_\", \"\") for x in feature_names]\n",
    "f2 = [x.replace(\"one-hot-encoder_\", \"\") for x in f1]\n",
    "\n",
    "print(f2)"
   ]
  },
  {
   "cell_type": "code",
   "execution_count": 77,
   "id": "3899d6f1-a3ae-42b6-a1d7-410347dd89dc",
   "metadata": {
    "tags": []
   },
   "outputs": [
    {
     "name": "stdout",
     "output_type": "stream",
     "text": [
      "[[ 0.14415467 -0.02207664  0.18834641  8.17155003  0.08188283  0.03415417\n",
      "  -0.17719239 -0.12156213  0.18296207 -0.04524974 -0.44557662  0.49107091]]\n"
     ]
    }
   ],
   "source": [
    "# The estimated coefficients will all be around 1:\n",
    "importances = lrmod.coef_\n",
    "print(importances)\n"
   ]
  },
  {
   "cell_type": "code",
   "execution_count": 80,
   "id": "7aef52c1-53e0-4a65-a4a0-9f25daf7c63b",
   "metadata": {
    "tags": []
   },
   "outputs": [
    {
     "data": {
      "text/plain": [
       "''"
      ]
     },
     "execution_count": 80,
     "metadata": {},
     "output_type": "execute_result"
    },
    {
     "data": {
      "image/png": "[encoded data removed]",
      "text/plain": [
       "<Figure size 500x300 with 1 Axes>"
      ]
     },
     "metadata": {},
     "output_type": "display_data"
    }
   ],
   "source": [
    "features = f2\n",
    "coefficients = lrmod.coef_[0]\n",
    "\n",
    "feature_importance = pd.DataFrame({'Feature': features, 'Importance': np.abs(coefficients)})\n",
    "feature_importance = feature_importance.sort_values('Importance', ascending=True)\n",
    "feature_importance.plot(x='Feature', y='Importance', kind='barh', figsize=(5, 3))\n",
    "plt.title('Feature Importances for Logistic Regression', fontsize=10)\n",
    ";"
   ]
  },
  {
   "cell_type": "code",
   "execution_count": 79,
   "id": "ca6bc998-d021-4988-a45c-3d525738ccd2",
   "metadata": {
    "tags": []
   },
   "outputs": [
    {
     "data": {
      "text/html": [
       "<div>\n",
       "<style scoped>\n",
       "    .dataframe tbody tr th:only-of-type {\n",
       "        vertical-align: middle;\n",
       "    }\n",
       "\n",
       "    .dataframe tbody tr th {\n",
       "        vertical-align: top;\n",
       "    }\n",
       "\n",
       "    .dataframe thead th {\n",
       "        text-align: right;\n",
       "    }\n",
       "</style>\n",
       "<table border=\"1\" class=\"dataframe\">\n",
       "  <thead>\n",
       "    <tr style=\"text-align: right;\">\n",
       "      <th></th>\n",
       "      <th>Feature</th>\n",
       "      <th>Importance</th>\n",
       "    </tr>\n",
       "  </thead>\n",
       "  <tbody>\n",
       "    <tr>\n",
       "      <th>3</th>\n",
       "      <td>days_since_user</td>\n",
       "      <td>8.171550</td>\n",
       "    </tr>\n",
       "    <tr>\n",
       "      <th>11</th>\n",
       "      <td>year_created_2014</td>\n",
       "      <td>0.491071</td>\n",
       "    </tr>\n",
       "    <tr>\n",
       "      <th>2</th>\n",
       "      <td>org_id</td>\n",
       "      <td>0.188346</td>\n",
       "    </tr>\n",
       "    <tr>\n",
       "      <th>8</th>\n",
       "      <td>creation_source_SIGNUP_GOOGLE_AUTH</td>\n",
       "      <td>0.182962</td>\n",
       "    </tr>\n",
       "    <tr>\n",
       "      <th>0</th>\n",
       "      <td>opted_in_to_mailing_list</td>\n",
       "      <td>0.144155</td>\n",
       "    </tr>\n",
       "    <tr>\n",
       "      <th>4</th>\n",
       "      <td>creation_source_GUEST_INVITE</td>\n",
       "      <td>0.081883</td>\n",
       "    </tr>\n",
       "    <tr>\n",
       "      <th>5</th>\n",
       "      <td>creation_source_ORG_INVITE</td>\n",
       "      <td>0.034154</td>\n",
       "    </tr>\n",
       "    <tr>\n",
       "      <th>1</th>\n",
       "      <td>enabled_for_marketing_drip</td>\n",
       "      <td>-0.022077</td>\n",
       "    </tr>\n",
       "    <tr>\n",
       "      <th>9</th>\n",
       "      <td>year_created_2012</td>\n",
       "      <td>-0.045250</td>\n",
       "    </tr>\n",
       "    <tr>\n",
       "      <th>7</th>\n",
       "      <td>creation_source_SIGNUP</td>\n",
       "      <td>-0.121562</td>\n",
       "    </tr>\n",
       "    <tr>\n",
       "      <th>6</th>\n",
       "      <td>creation_source_PERSONAL_PROJECTS</td>\n",
       "      <td>-0.177192</td>\n",
       "    </tr>\n",
       "    <tr>\n",
       "      <th>10</th>\n",
       "      <td>year_created_2013</td>\n",
       "      <td>-0.445577</td>\n",
       "    </tr>\n",
       "  </tbody>\n",
       "</table>\n",
       "</div>"
      ],
      "text/plain": [
       "                               Feature  Importance\n",
       "3                      days_since_user    8.171550\n",
       "11                   year_created_2014    0.491071\n",
       "2                               org_id    0.188346\n",
       "8   creation_source_SIGNUP_GOOGLE_AUTH    0.182962\n",
       "0             opted_in_to_mailing_list    0.144155\n",
       "4         creation_source_GUEST_INVITE    0.081883\n",
       "5           creation_source_ORG_INVITE    0.034154\n",
       "1           enabled_for_marketing_drip   -0.022077\n",
       "9                    year_created_2012   -0.045250\n",
       "7               creation_source_SIGNUP   -0.121562\n",
       "6    creation_source_PERSONAL_PROJECTS   -0.177192\n",
       "10                   year_created_2013   -0.445577"
      ]
     },
     "execution_count": 79,
     "metadata": {},
     "output_type": "execute_result"
    }
   ],
   "source": [
    "feature_importance_table = pd.DataFrame({'Feature': features, 'Importance': coefficients})\n",
    "feature_importance_table.sort_values('Importance', ascending=False)\n"
   ]
  },
  {
   "cell_type": "code",
   "execution_count": null,
   "id": "12cd40b3-8a76-4cf8-95c2-78c36f218dba",
   "metadata": {},
   "outputs": [],
   "source": []
  }
 ],
 "metadata": {
  "kernelspec": {
   "display_name": "Python 3 (ipykernel)",
   "language": "python",
   "name": "python3"
  },
  "language_info": {
   "codemirror_mode": {
    "name": "ipython",
    "version": 3
   },
   "file_extension": ".py",
   "mimetype": "text/x-python",
   "name": "python",
   "nbconvert_exporter": "python",
   "pygments_lexer": "ipython3",
   "version": "3.11.3"
  }
 },
 "nbformat": 4,
 "nbformat_minor": 5
}
