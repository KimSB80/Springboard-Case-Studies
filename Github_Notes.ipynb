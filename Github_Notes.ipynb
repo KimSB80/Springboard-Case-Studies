{
 "cells": [
  {
   "cell_type": "markdown",
   "id": "3b3906b3-c8e2-42ec-a2c7-70a16b47d434",
   "metadata": {},
   "source": [
    "git status\n",
    "gives you status of which files have been changed (i.e. staging area)"
   ]
  },
  {
   "cell_type": "markdown",
   "id": "4ac3350f-63e2-49da-be94-4f39e51efedc",
   "metadata": {},
   "source": [
    " In order to compare the file as it currently is to what you last saved, you can use git diff filename.\n",
    " \n",
    "git diff without any filenames will show you all the changes in your repository\n",
    "git diff directory will show you the changes to the files in some directory."
   ]
  },
  {
   "cell_type": "markdown",
   "id": "ceef0cb5-bf30-4006-a4e9-0a7e1c4b9f40",
   "metadata": {},
   "source": [
    "To add a file to the staging area, use git add filename"
   ]
  },
  {
   "cell_type": "markdown",
   "id": "fb0217b2-69d8-4445-a5c9-6bd67fd718a5",
   "metadata": {},
   "source": [
    "To compare the state of your files with those in the staging area, you can use git diff -r HEAD. \n",
    "The -r flag means \"compare to a particular revision\", and HEAD is a shortcut meaning \"the most recent commit"
   ]
  },
  {
   "cell_type": "markdown",
   "id": "671356dd-968f-40b2-8177-858d3f2c7a6f",
   "metadata": {},
   "source": [
    "nano filename, it will open filename for editing (or create it if it doesn't already exist). You can then move around with the arrow keys, delete characters with the backspace key, and so on. You can also do a few other operations with control-key combinations:\n",
    "\n",
    "Ctrl-K: delete a line.\n",
    "Ctrl-U: un-delete a line.\n",
    "Ctrl-O: save the file ('O' stands for 'output').\n",
    "Ctrl-X: exit the editor."
   ]
  },
  {
   "cell_type": "markdown",
   "id": "49929bdf-e3b8-4170-857b-fdbc8d53f9a4",
   "metadata": {},
   "source": [
    "To save the changes in the staging area, you use the command git commit\n",
    "\n",
    "To keep things simple, you can use -m \"some message in quotes\" on the command line to enter a single-line message like this:\n",
    "\n",
    "git commit -m \"Program appears to have become self-aware.\""
   ]
  },
  {
   "cell_type": "markdown",
   "id": "85bb3129-b781-40c0-b922-3ff0e4dd96b9",
   "metadata": {},
   "source": [
    "If you accidentally mistype a commit message, you can change it using the --amend flag.\n",
    "\n",
    "git commit --amend - m \"new message\""
   ]
  },
  {
   "cell_type": "markdown",
   "id": "60fd8db5-d56d-46d1-a597-61976a3344b7",
   "metadata": {},
   "source": [
    "The command git log is used to view the log of the project's history"
   ]
  },
  {
   "cell_type": "markdown",
   "id": "d361fdbe-1425-4fa6-87f4-f55dfcb73527",
   "metadata": {},
   "source": [
    "A project's entire log can be overwhelming, so it's often useful to inspect only the changes to particular files or directories. \n",
    "You can do this using git log path, where path is the path to a specific file or directory. "
   ]
  },
  {
   "cell_type": "markdown",
   "id": "12023164-2c56-4af8-b32b-6c62fe6f3e9d",
   "metadata": {},
   "source": [
    "A hash is like an absolute path: it identifies a specific commit. Another way to identify a commit is to use the equivalent of a relative path. The special label HEAD, which we saw in the previous chapter, always refers to the most recent commit. The label HEAD~1 then refers to the commit before it, while HEAD~2 refers to the commit before that, and so on\n",
    "git show HEAD~1"
   ]
  },
  {
   "cell_type": "markdown",
   "id": "82f76a4d-00b4-44d5-9399-cb93b5b4a051",
   "metadata": {},
   "source": [
    "git annotate file shows who made the last change to each line of a file and when."
   ]
  },
  {
   "cell_type": "markdown",
   "id": "95c12113-54aa-4273-8f87-7fa65f3af299",
   "metadata": {},
   "source": [
    "o see the changes between two commits, you can use git diff ID1..ID2, where ID1 and ID2 identify the two commits you're interested in, and the connector .. is a pair of dots."
   ]
  },
  {
   "cell_type": "markdown",
   "id": "7d8d2716-7a8c-4aca-a9b3-ae60385c960b",
   "metadata": {},
   "source": [
    "Like most complex pieces of software, Git allows you to change its default settings. To see what the settings are, you can use the command git config --list with one of three additional options:\n",
    "\n",
    "--system: settings for every user on this computer.\n",
    "--global: settings for every one of your projects.\n",
    "--local: settings for one specific project."
   ]
  },
  {
   "cell_type": "markdown",
   "id": "ea42f1ac-6c0a-4b24-96f7-ffc9ba895d11",
   "metadata": {},
   "source": [
    "Most of Git's settings should be left as they are. However, there are two you should set on every computer you use: your name and your email address.\n",
    "\n",
    "git config --global setting value\n",
    "The settings that identify your name and email address are user.name and user.email, respectively."
   ]
  },
  {
   "cell_type": "markdown",
   "id": "bde505b3-37f9-44d9-beab-3563378b3769",
   "metadata": {},
   "source": [
    " Similarly, it's common to use git add periodically to save the most recent changes to a file to the staging area. "
   ]
  },
  {
   "cell_type": "markdown",
   "id": "b238b75e-372f-4672-9f68-ace889989832",
   "metadata": {},
   "source": [
    "By default, every Git repository has a branch called master. To list all of the branches in a repository, you can run the command git branch. The branch you are currently in will be shown with a * beside its name."
   ]
  },
  {
   "cell_type": "markdown",
   "id": "48add75b-238a-43e7-ad62-fa2dc1cc9a95",
   "metadata": {},
   "source": [
    "git checkout branch-name to switch to a branch. To create a branch then switch to it in one step, you add a -b flag, calling git checkout -b branch-name.\n",
    "\n",
    "To merge two branches, you run git merge source destination (without .. between the two branch names). Git automatically opens an editor so that you can write a log message for the merge;"
   ]
  },
  {
   "cell_type": "markdown",
   "id": "938523b5-ee1b-4961-9aac-188c9586b3ca",
   "metadata": {},
   "source": [
    "If you want to create a repository for a new project in the current working directory, you can simply say git init project-name, where \"project-name\" is the name you want the new repository's root directory to have."
   ]
  },
  {
   "cell_type": "markdown",
   "id": "96ee2160-f6c4-4758-a3f6-0a2ee52b5b6a",
   "metadata": {},
   "source": [
    "you will often want to convert existing projects into repositories. \n",
    "Doing so is simple, just run:\n",
    "\n",
    "git init\n",
    "in the project's root directory, or:\n",
    "\n",
    "git init /path/to/project"
   ]
  },
  {
   "cell_type": "markdown",
   "id": "9eba2e74-d84a-4b52-a29b-fef2be2d2388",
   "metadata": {},
   "source": [
    "The complement of git pull is git push, which pushes the changes you have made locally into a remote repository. The most common way to use it is:\n",
    "\n",
    "git push remote-name branch-name"
   ]
  }
 ],
 "metadata": {
  "kernelspec": {
   "display_name": "Python 3 (ipykernel)",
   "language": "python",
   "name": "python3"
  },
  "language_info": {
   "codemirror_mode": {
    "name": "ipython",
    "version": 3
   },
   "file_extension": ".py",
   "mimetype": "text/x-python",
   "name": "python",
   "nbconvert_exporter": "python",
   "pygments_lexer": "ipython3",
   "version": "3.9.13"
  }
 },
 "nbformat": 4,
 "nbformat_minor": 5
}
