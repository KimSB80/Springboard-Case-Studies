{
 "cells": [
  {
   "cell_type": "markdown",
   "id": "9a5df9b2-ce99-4998-88c0-6f9f4decf9a1",
   "metadata": {},
   "source": [
    "Pandas Dataframes<br>\n",
    ".head() method to display the head<br>\n",
    ".info() method shows information on each of the columns, such as the data type and number of missing values<br>\n",
    ".shape attribute shows number of rows and colums<br>\n",
    ".describe() gives summary stats on numeric variables<br>\n",
    "<br>\n",
    "Attributes:<br>\n",
    ".values attribute gives values<br>\n",
    ".columns gives column names<br>\n",
    ".index gives row info/names<br>\n",
    "<br>"
   ]
  },
  {
   "cell_type": "markdown",
   "id": "7882e1bb-d8fd-4d3e-9b0b-21d4ed6e4f1f",
   "metadata": {},
   "source": [
    "Sorting and Subsetting<br>\n",
    ".sort_values('variable') sorts by a particular column<br>\n",
    "<br>\n",
    "Subset by column name<br>\n",
    "Can use double brackets.. outer brackets subset dataframe, and the inner brackets provide a list of columns on which to subset <br>\n",
    "Subset rows... can create a logical condition regarding a certain column variable<br>\n",
    "E.g. dogs[dogs['height']>50] gets all the rows where the condition height>50 is true<br>\n",
    "<br>\n",
    "Subsetting using .isin() subsets by a list of conditions or text<br>\n",
    "E.g. dogs['color'].isin(['Black','Brown']) creates a boolean that you can then pass to dogs to select those rows<br>\n"
   ]
  },
  {
   "cell_type": "markdown",
   "id": "1c3f385a-9c6f-4c92-afdc-a0e3efe67119",
   "metadata": {},
   "source": [
    "SUMMARY STATS <br>\n",
    "The .agg() method allows you to apply your own custom functions to a DataFrame\n",
    "and apply functions to more than one column of a DataFrame at once<br>\n",
    "df['column'].agg(function)<br>\n",
    "Example... passing more than one column to the function:<br>\n",
    "sales[[\"temperature_c\", 'fuel_price_usd_per_l', 'unemployment']].agg(iqr))<br>\n",
    "\n",
    "Another example passing a particular column to agg: \n",
    "licenses_zip_ward.groupby('alderman').agg({'income':'median'})"
   ]
  },
  {
   "cell_type": "markdown",
   "id": "01a16167-8112-4620-a3f3-666393f868af",
   "metadata": {},
   "source": [
    "SUMMARY: COUNTING CATEGORICAL VARIABLES <br>\n",
    ".drop_duplicates(subset = [])<br><br>\n",
    ".value_counts()<br>\n",
    "<br>\n",
    "Can use .groupby(['var1','var2'])['another col'].agg(['sum','mean']"
   ]
  },
  {
   "cell_type": "markdown",
   "id": "b40deacd-bb1c-4689-8e46-f33aff9e9357",
   "metadata": {},
   "source": [
    "PIVOT TABLES IN PANDAS <br>\n",
    "Takes mean value for each group by default  <br>\n",
    ".pivot_table(values = 'col', index = 'another col', columns = 'second var', fill_value = 0, aggfunc = np.median)  <br> \n",
    "Use margins = True to sum all rows and columns (summary stats across dataset)\n"
   ]
  },
  {
   "cell_type": "markdown",
   "id": "73f08925-4d53-48bc-9eca-2ca833dc1272",
   "metadata": {},
   "source": [
    "SLICING AND INDEXING DATAFRAMES <br>\n",
    "Setting an column as an index:\n",
    ".set_index('name') sets the index to that column names <br>\n",
    ".reset_index(drop = True) undoes this and also drops that column name<br>\n",
    "<br>\n",
    "Why create index? To use .loc[] and pass it those indices of interest as a list <br>\n",
    "\n",
    "MULTI-LEVEL (HIERARCHICAL INDEXES) <br>\n",
    "Pass a list of column names to .set_index()<br>\n",
    "Subset the outer level with a list, and subset the inner level by passing a list of tuples <br>\n",
    "\n",
    "SORTING<br>\n",
    ".sort_index(level = [pass a list], ascending = [True,False]) sorts dataframe <br>\n",
    "SLICING ROWS: Need to sort index before slicing dataframe using .loc[name1:namelast] <br>\n",
    "To slice on inner index have to pass tuples<br>\n",
    "\n"
   ]
  },
  {
   "cell_type": "markdown",
   "id": "c2a5ca40-63b3-4804-a252-b9dc02386c14",
   "metadata": {},
   "source": [
    "WORKING WITH PIVOT TABLES: <br>\n",
    ".mean(axis = 'index')  Axis argument calculates mean of each column  <br>\n",
    ".mean(axis = 'columns') Calculate mean for each row"
   ]
  },
  {
   "cell_type": "markdown",
   "id": "c1cb188a-4632-4f23-a242-752e6eaea0f8",
   "metadata": {},
   "source": [
    "MISSING VALUES <br>\n",
    ".isna() checks for NaN <br>\n",
    ".isna().any() tells us if there's any NaN is in that column<br>\n",
    ".isna().sum() sums the number of NaN in the column <br>\n",
    ".dropna()<br>\n",
    ".fillna(0)<br>\n"
   ]
  },
  {
   "cell_type": "markdown",
   "id": "a2dceddc-91ff-49e7-8a35-3e93d3c2a1f2",
   "metadata": {},
   "source": [
    "CREATING DATAFRAMES <br>\n",
    "From a list of dictionaries... constructed row by row <br>\n",
    "From a dictionary of lists... constructed column by column. Key=column name, Values=list of column values<br>\n",
    "Then pass it into pd.DataFrame(list_of_dicts) <br>\n",
    "pd.read_csv(file path)  <br>\n",
    "newdata.to_csv(new file path)  Creates new csv from dataframe  <br>"
   ]
  },
  {
   "cell_type": "markdown",
   "id": "74d5d1dc-3575-4b2c-916c-9f8b23341fad",
   "metadata": {},
   "source": [
    "JOINING DATAFRAMES <br>\n",
    "Inner join is default: (returns all rows from both tables, but does NOT RETURN rows that are not in both tables so you can lose data)\n",
    "df1.merge(df2, on = 'col to use', suffixes = ('_df1', 'df2')) <br>\n",
    "You can pass on a list of columns if you want to merge on multiple columns <br>\n",
    "\n",
    "Merging multipe tables <br>\n",
    "df1.merge(df2...).merge(df3...)<br>\n",
    "NOTE: Use a backslash \\ if code goes over to another line to indicate it's all one line.\n",
    "\n",
    "LEFT JOIN: returns ALL rows from left table (but omits rows in right table that don't have matching data <br>\n",
    "df1.merge(df2, on = 'col to use', how = 'left') <br>\n",
    "\n",
    "RIGHT JOIN:<br>\n",
    "If columns have different names can set the col ID to use<br>\n",
    "df1.merge(df2, on = 'col to use', how = 'right', left_on='id', right_on='movieID')) <br>\n",
    "\n",
    "\n",
    "OUTER JOIN:<br>\n",
    "Returns all rows in both tables.. and inserts null values where data is missing. <br>\n",
    "<br>\n",
    "MERGING ON INDEXES\n",
    "df1.merge(df2, on = 'col to use', left_on='id', left_index=True, right_on='movieID', right_index=True)) <br>\n",
    "\n",
    "FILTERING JOINS: <br>\n",
    "Filter obs from table based on whether they match obs in another table. \n",
    "\n",
    "Semi-join: <br>\n",
    "Similar to inner join -returns ONLY left columns (not right)\n",
    "Asemi join filters the left table to only the rows where a match exists in both the left and right tables.\n",
    "1. Merge tables using inner join. 2. \n",
    "\n",
    "Anti-join: <br>\n",
    "Use indicator = True to include a column that tells you which rows were in which dataset<br>\n",
    "Use a left join.\n",
    "Example to use the merged dataset to find where only data in left dataset:\n",
    "empl_cust.loc[empl_cust['_merge'] == 'left_only', 'srid'] (This returns only \"srid\" column )\n",
    "Select the srid column where _merge is left_only:\n"
   ]
  },
  {
   "cell_type": "markdown",
   "id": "6ccde409-6ffa-4e33-82e9-baeb444135ce",
   "metadata": {},
   "source": [
    "CONCATENATE TWO TABLES VERTICALLY: <br>\n",
    "pd.concat([list of table names], axis = 0, ignore_index=True)  axis tells it to concat vertically and ignore index if not important. <br>\n",
    " <br>\n",
    " pd.concat([list of table names], axis = 0, ignore_index=False, keys = [list of keys that label each original dataset]).  Gives table a multi-index.\n",
    " <br>\n",
    " use sort=True to sort column names.\n",
    " If you set join=inner then only includes columns present in both tables. (Join=outer is default)\n",
    "\n",
    "VALIDATE: <br>\n",
    " .merge(... validate = one_to_one) <br>\n",
    " .concat(... verify_integrity=True)"
   ]
  },
  {
   "cell_type": "markdown",
   "id": "f41ddbee-127f-4277-82c5-a01a7908a8a1",
   "metadata": {},
   "source": [
    "MERGING ORDERED AND TIME-SERIES DATA: <br>\n",
    "pd.merge_ordered(df1, df2, ..., fill_method = 'ffill' )    Default is outer join; allows for right join. Forward fills by putting previous value in for any missing value. <br>\n",
    "<br>\n",
    "pd.merge_asof(... direction=backward)   Merges on _ordered_ columns, and matches on nearest key column not exact matches. <br>\n",
    "Direction argument... 'forward' makes it so that matched value from right table is greater than or equal to value in left table. <br>\n",
    "<br>\n",
    ".query('some selection statement')<br>\n",
    ".melt(id_vars=[list of cols we don't want to change], value_vars=[what to include], var_name=[], value_name=[]). Unpivots tables (wide to long format)"
   ]
  },
  {
   "cell_type": "code",
   "execution_count": null,
   "id": "f1c63f39-bb93-4a9c-a727-4bc83629b134",
   "metadata": {},
   "outputs": [],
   "source": []
  }
 ],
 "metadata": {
  "kernelspec": {
   "display_name": "Python 3 (ipykernel)",
   "language": "python",
   "name": "python3"
  },
  "language_info": {
   "codemirror_mode": {
    "name": "ipython",
    "version": 3
   },
   "file_extension": ".py",
   "mimetype": "text/x-python",
   "name": "python",
   "nbconvert_exporter": "python",
   "pygments_lexer": "ipython3",
   "version": "3.9.13"
  }
 },
 "nbformat": 4,
 "nbformat_minor": 5
}
