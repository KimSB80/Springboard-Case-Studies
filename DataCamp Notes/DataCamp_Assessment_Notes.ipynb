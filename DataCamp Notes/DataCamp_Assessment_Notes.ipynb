{
 "cells": [
  {
   "cell_type": "code",
   "execution_count": 29,
   "id": "c1250b63-ce43-44c6-a879-605db523008e",
   "metadata": {},
   "outputs": [
    {
     "data": {
      "text/plain": [
       "'bark bark bark bark bark bark...'"
      ]
     },
     "execution_count": 29,
     "metadata": {},
     "output_type": "execute_result"
    }
   ],
   "source": [
    "class Dog:\n",
    "    def __init__(self):\n",
    "        pass\n",
    "    \n",
    "    def bark(self):\n",
    "        return \"bark bark bark bark bark bark...\"\n",
    "\n",
    "d = Dog()\n",
    "\n",
    "d.bark()"
   ]
  },
  {
   "cell_type": "code",
   "execution_count": 25,
   "id": "6e1e036e-cb50-49bb-976b-c3bfacae011f",
   "metadata": {},
   "outputs": [
    {
     "name": "stdout",
     "output_type": "stream",
     "text": [
      "<_io.TextIOWrapper name='hello.txt' mode='w' encoding='UTF-8'>\n"
     ]
    }
   ],
   "source": [
    "with open('hello.txt', 'w') as file:\n",
    "  file.write(\"hello!\")\n",
    "\n",
    "print(file.closed)"
   ]
  },
  {
   "cell_type": "code",
   "execution_count": 13,
   "id": "5b4bd3a4-7cfe-4998-b249-9922820ef684",
   "metadata": {},
   "outputs": [
    {
     "name": "stdout",
     "output_type": "stream",
     "text": [
      "Hello my name is John\n"
     ]
    }
   ],
   "source": [
    "class Person:\n",
    "  def __init__(self, name, age):\n",
    "    self.name = name\n",
    "    self.age = age\n",
    "\n",
    "  def myfunc(self):\n",
    "    print(\"Hello my name is \" + self.name)\n",
    "\n",
    "p1 = Person(\"John\", 36)\n",
    "p1.myfunc()\n"
   ]
  },
  {
   "cell_type": "code",
   "execution_count": 12,
   "id": "cc985574-2ff6-4f57-8674-e262f29a2a48",
   "metadata": {},
   "outputs": [
    {
     "data": {
      "text/plain": [
       "4"
      ]
     },
     "execution_count": 12,
     "metadata": {},
     "output_type": "execute_result"
    }
   ],
   "source": [
    "class Planet:\n",
    "    def __init__(self, name, age):\n",
    "        self.blah = name + name\n",
    "        self.age = age * 2\n",
    "        \n",
    "v = Planet('venus', 2)\n",
    "\n",
    "v.age"
   ]
  },
  {
   "cell_type": "code",
   "execution_count": 15,
   "id": "f2ed917f-c271-4181-86f0-537383df0af6",
   "metadata": {},
   "outputs": [
    {
     "data": {
      "text/plain": [
       "['Hello', 'World']"
      ]
     },
     "execution_count": 15,
     "metadata": {},
     "output_type": "execute_result"
    }
   ],
   "source": [
    "[s.title() for s in ['hello', 'world']]"
   ]
  },
  {
   "cell_type": "code",
   "execution_count": 19,
   "id": "ebbcc575-ddb1-43a6-b781-6a0cc5e041e6",
   "metadata": {},
   "outputs": [
    {
     "data": {
      "text/plain": [
       "'I like to barkI like to barkI like to barkI like to bark'"
      ]
     },
     "execution_count": 19,
     "metadata": {},
     "output_type": "execute_result"
    }
   ],
   "source": [
    "class Dog:    \n",
    "    def woof(self):\n",
    "        return 'woof!'\n",
    "    def bark(self, num_times):\n",
    "        return 'I like to bark' * num_times\n",
    "    \n",
    "t = Dog()\n",
    "\n",
    "t.woof()\n",
    "t.bark(4)"
   ]
  },
  {
   "cell_type": "code",
   "execution_count": 22,
   "id": "0cc6f0c7-ec47-42db-9073-58ba5a26ffcc",
   "metadata": {},
   "outputs": [
    {
     "data": {
      "text/plain": [
       "[0, 3, 6, 9, 12]"
      ]
     },
     "execution_count": 22,
     "metadata": {},
     "output_type": "execute_result"
    }
   ],
   "source": [
    "[i * 3 for i in range(5)]"
   ]
  },
  {
   "cell_type": "code",
   "execution_count": 26,
   "id": "745d5bfa-eedf-42d9-a28d-ae4e72a4abed",
   "metadata": {},
   "outputs": [
    {
     "data": {
      "text/plain": [
       "4.6"
      ]
     },
     "execution_count": 26,
     "metadata": {},
     "output_type": "execute_result"
    }
   ],
   "source": [
    "book = {\n",
    "    'title': 'The Giver',\n",
    "    'author': 'Lois Lowry',\n",
    "    'rating': 4.13\n",
    "}\n",
    "\n",
    "book['rating'] = 4.6\n",
    "\n",
    "\n",
    "book['rating']"
   ]
  },
  {
   "cell_type": "code",
   "execution_count": 49,
   "id": "fc45e035-ceec-4f2f-b7a4-de22f346e14d",
   "metadata": {},
   "outputs": [
    {
     "data": {
      "text/plain": [
       "'mercury'"
      ]
     },
     "execution_count": 49,
     "metadata": {},
     "output_type": "execute_result"
    }
   ],
   "source": [
    "class Planet:\n",
    "    def __init__(self, name):\n",
    "        self.name = name\n",
    "        \n",
    "m = Planet('mercury')\n",
    "\n",
    "m.name"
   ]
  },
  {
   "cell_type": "code",
   "execution_count": 32,
   "id": "42245401-03b0-4206-9a61-d2ccf54d50b4",
   "metadata": {},
   "outputs": [
    {
     "name": "stdout",
     "output_type": "stream",
     "text": [
      "4\n"
     ]
    }
   ],
   "source": [
    "ints = set([1,1,2,3,3,3,4])\n",
    "print(len(ints))"
   ]
  },
  {
   "cell_type": "code",
   "execution_count": 34,
   "id": "18b6e63c-6029-43b5-ada0-0165a97c506a",
   "metadata": {},
   "outputs": [
    {
     "name": "stdout",
     "output_type": "stream",
     "text": [
      "30\n",
      "20\n",
      "20\n"
     ]
    }
   ],
   "source": [
    "this_var = 30\n",
    "\n",
    "def func():\n",
    "  global this_var\n",
    "  this_var = 20\n",
    "  print(this_var)\n",
    "    \n",
    "print(this_var)\n",
    "func()\n",
    "print(this_var)"
   ]
  },
  {
   "cell_type": "code",
   "execution_count": 50,
   "id": "e60e2501-af62-417a-99f2-8dffd010014f",
   "metadata": {},
   "outputs": [
    {
     "data": {
      "text/plain": [
       "'I know how to interact with the docstrings of a function.'"
      ]
     },
     "execution_count": 50,
     "metadata": {},
     "output_type": "execute_result"
    }
   ],
   "source": [
    "def fun_docs():\n",
    "    \"\"\"I know how to interact with the docstrings of a function.\"\"\"\n",
    "    \n",
    "    return None\n",
    "\n",
    "#retrieves documentation of docstring\n",
    "fun_docs.__doc__\n"
   ]
  },
  {
   "cell_type": "code",
   "execution_count": 51,
   "id": "96d3d5e1-4af2-4ae5-afaf-668c3ff77cb6",
   "metadata": {},
   "outputs": [
    {
     "data": {
      "text/plain": [
       "{1, 2, 3}"
      ]
     },
     "execution_count": 51,
     "metadata": {},
     "output_type": "execute_result"
    }
   ],
   "source": [
    "x = (1, 2, 3)\n",
    "s = set(x)\n",
    "#a set has curly brackets too\n",
    "s"
   ]
  },
  {
   "cell_type": "code",
   "execution_count": 41,
   "id": "92402b0f-c884-4763-aee9-a814e087a0f4",
   "metadata": {},
   "outputs": [
    {
     "data": {
      "text/plain": [
       "'paperback'"
      ]
     },
     "execution_count": 41,
     "metadata": {},
     "output_type": "execute_result"
    }
   ],
   "source": [
    "book = {\n",
    "    'title': 'The Giver',\n",
    "    'author': 'Lois Lowry',\n",
    "    'rating': 4.13\n",
    "}\n",
    "\n",
    "book['format']='paperback'\n",
    "\n",
    "\n",
    "book['format']"
   ]
  },
  {
   "cell_type": "code",
   "execution_count": 42,
   "id": "8f39faeb-fd1a-45ab-b856-fdcfbbd6a184",
   "metadata": {},
   "outputs": [
    {
     "name": "stdout",
     "output_type": "stream",
     "text": [
      "153\n"
     ]
    }
   ],
   "source": [
    "def add_many(*args):\n",
    "    s = 0\n",
    "    for n in args:\n",
    "        s += n\n",
    "    print(s)\n",
    "\n",
    "add_many(100, 50, 3)"
   ]
  },
  {
   "cell_type": "code",
   "execution_count": 44,
   "id": "ad5e57e0-ae39-4fee-827e-eb8192e51c9d",
   "metadata": {},
   "outputs": [
    {
     "data": {
      "text/plain": [
       "1"
      ]
     },
     "execution_count": 44,
     "metadata": {},
     "output_type": "execute_result"
    }
   ],
   "source": [
    "def factorial(n):\n",
    "    \"\"\"returns n!\"\"\"\n",
    "    return 1 if n < 2 else n * factorial(n-1)\n",
    "\n",
    "factorial(1)\n"
   ]
  },
  {
   "cell_type": "code",
   "execution_count": 55,
   "id": "063ada04-9c2a-49b7-8a45-e6a536a512b6",
   "metadata": {},
   "outputs": [
    {
     "name": "stdout",
     "output_type": "stream",
     "text": [
      "['Gloomhaven', 'Pandemic Legacy: Season 1', 'Terraforming Mars', 'Brass: Birmingham', 'NEW']\n"
     ]
    }
   ],
   "source": [
    "#USE INSERT TO ADD AN ELEMENT TO A LIST\n",
    "boardgames = [\n",
    "  'Pandemic Legacy: Season 1', \n",
    "  'Terraforming Mars', \n",
    "  'Brass: Birmingham'\n",
    "]\n",
    "boardgames.insert(0, 'Gloomhaven')\n",
    "boardgames.insert(4, 'NEW')\n",
    "print(boardgames)"
   ]
  },
  {
   "cell_type": "code",
   "execution_count": 56,
   "id": "9cb5b685-b833-4af2-a84c-5ecd0d4073d5",
   "metadata": {},
   "outputs": [
    {
     "name": "stdout",
     "output_type": "stream",
     "text": [
      "<class '__main__.BankAccount'>\n"
     ]
    }
   ],
   "source": [
    "#Use pass as a placeholder for future code\n",
    "class BankAccount:\n",
    "    pass\n",
    "\n",
    "  \n",
    "account = BankAccount()\n",
    "print(type(account))"
   ]
  },
  {
   "cell_type": "code",
   "execution_count": null,
   "id": "3c45e7c6-0798-498e-8c27-d9c98dfa1df4",
   "metadata": {},
   "outputs": [],
   "source": [
    "import matplotlib.pyplot as plt\n",
    "import seaborn as sns\n",
    "sns.lineplot(x = 'day', y = 'order', data=df)\n",
    "\n",
    "ax = sns.scatterplot(data=steam, \n",
    "                    x=\"temp\", \n",
    "                    y=\"usage\")\n",
    "\n",
    "sns.lineplot(x = 'date', y = 'value', data = trace)\n"
   ]
  },
  {
   "cell_type": "code",
   "execution_count": null,
   "id": "12961365-6d48-4cf7-b432-779923876c16",
   "metadata": {},
   "outputs": [],
   "source": [
    "df.loc['two':] \n",
    "print(df.loc[:,[\"gh owner\"]])\n",
    "\n",
    "print(df.iloc[0:2])\n",
    "\n",
    "IQR = stats.iqr(pH)\n",
    "\n",
    "print(df.stars.transform(lambda x: x / 1000))\n",
    "\n",
    "print(df.nsmallest(3, 'population'))\n",
    "\n",
    "missing_price = wine[wine['price'].isna()]\n"
   ]
  }
 ],
 "metadata": {
  "kernelspec": {
   "display_name": "Python 3 (ipykernel)",
   "language": "python",
   "name": "python3"
  },
  "language_info": {
   "codemirror_mode": {
    "name": "ipython",
    "version": 3
   },
   "file_extension": ".py",
   "mimetype": "text/x-python",
   "name": "python",
   "nbconvert_exporter": "python",
   "pygments_lexer": "ipython3",
   "version": "3.9.13"
  }
 },
 "nbformat": 4,
 "nbformat_minor": 5
}
