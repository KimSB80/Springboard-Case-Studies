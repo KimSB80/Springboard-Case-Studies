{
 "cells": [
  {
   "cell_type": "code",
   "execution_count": null,
   "id": "c336a623-a8ba-4218-bd77-81d954647372",
   "metadata": {},
   "outputs": [],
   "source": [
    "##An iterable is an object that can return an iterator\n",
    "#an iterator is an object that keeps state and produces the next value when you call next()\n",
    "\n",
    "#ITERATOR EXAMPLE\n",
    "flash = ['jay garrick', 'barry allen', 'wally west', 'bart allen']\n",
    "\n",
    "# Print each list item in flash using a for loop\n",
    "for person in flash:\n",
    "    print(person)\n",
    "\n",
    "\n",
    "# Create an iterator for flash: superhero\n",
    "superhero = iter(flash)\n",
    "\n",
    "# Print each item from the iterator\n",
    "print(next(superhero))\n",
    "print(next(superhero))\n"
   ]
  },
  {
   "cell_type": "code",
   "execution_count": null,
   "id": "5b6f9109-4fc5-4485-b966-f0716100a0bc",
   "metadata": {},
   "outputs": [],
   "source": [
    "# ENUMERATE AND ZIP\n",
    "\n",
    "#Enumerate Example\n",
    "# Create a list of strings: mutants\n",
    "mutants = ['charles xavier', \n",
    "            'bobby drake', \n",
    "            'kurt wagner', \n",
    "            'max eisenhardt', \n",
    "            'kitty pryde']\n",
    "\n",
    "# Create a list of tuples: mutant_list\n",
    "mutant_list = list(mutants)\n",
    "\n",
    "# Print the list of tuples\n",
    "print(mutant_list)\n",
    "\n",
    "# Unpack and print the tuple pairs\n",
    "for index1, value1 in enumerate(mutants):\n",
    "    print(index1, value1)\n",
    "    \n",
    "# Change the start index\n",
    "for index2, value2 in enumerate(mutants, start=1):\n",
    "    print(index2, value2)\n"
   ]
  },
  {
   "cell_type": "code",
   "execution_count": null,
   "id": "ea8b7d5b-38e4-4a33-bdf5-3703ff9c225f",
   "metadata": {},
   "outputs": [],
   "source": [
    "#ZIP creates an iterable of tuples \n",
    "#Zip example\n",
    "\n",
    "# Create a list of tuples: mutant_data\n",
    "mutant_data = list(zip(mutants, aliases, powers))\n",
    "\n",
    "# Print the list of tuples\n",
    "print(mutant_data)\n",
    "\n",
    "# Create a zip object using the three lists: mutant_zip\n",
    "mutant_zip = zip(mutants, aliases, powers)\n",
    "\n",
    "# Print the zip object\n",
    "print(mutant_zip)\n",
    "\n",
    "# Unpack the zip object and print the tuple values\n",
    "for value1, value2, value3 in mutant_zip:\n",
    "    print(value1, value2, value3)"
   ]
  },
  {
   "cell_type": "code",
   "execution_count": 1,
   "id": "06ca56b7-92a8-4f8b-a77d-32ed3ff56fff",
   "metadata": {},
   "outputs": [],
   "source": [
    "# use * in a call to zip() to unpack the tuples produced by zip()\n",
    "# * unpacks an iterable such as a list or a tuple into positional arguments in a function call.\n",
    "\n",
    "# Create a zip object from mutants and powers: z1\n",
    "z1 = zip(mutants, powers)\n",
    "\n",
    "# Print the tuples in z1 by unpacking with *\n",
    "print(*z1)\n",
    "\n",
    "# Re-create a zip object from mutants and powers: z1\n",
    "z1 = zip(mutants, powers)\n",
    "\n",
    "# 'Unzip' the tuples in z1 by unpacking with * and zip(): result1, result2\n",
    "result1, result2 = zip(*z1)\n",
    "\n",
    "# Check if unpacked tuples are equivalent to original tuples\n",
    "print(result1 == mutants)\n",
    "print(result2 == powers)\n"
   ]
  },
  {
   "cell_type": "code",
   "execution_count": null,
   "id": "4a9523bd-a73e-406f-b8eb-70cdbc977b2a",
   "metadata": {},
   "outputs": [],
   "source": [
    "#LOADING DATA IN CHUNKS\n",
    "with pandas pd.read_csv function\n"
   ]
  },
  {
   "cell_type": "code",
   "execution_count": null,
   "id": "dbb86b0c-5961-4724-b900-0223a9dcab4e",
   "metadata": {},
   "outputs": [],
   "source": [
    "#LIST COMPREHENSION -- build lists in a single line\n",
    "#Components: iterable, iterable variable, and output expression (comes first)\n",
    "# [[output expression] for iterator variable in iterable]\n",
    "\n",
    "nums = [1,2,3] \n",
    "newnum = [num+1 for num in nums]\n",
    "\n",
    "#For nested loops\n",
    "# Create a 5 x 5 matrix using a list of lists: matrix\n",
    "matrix = [[col for col in range(0,5)] for row in range(0,5)]\n",
    "\n",
    "# Print the matrix\n",
    "for row in matrix:\n",
    "    print(row)\n",
    "    \n",
    "\n",
    "#CONDITIONALS in list comprehension\n",
    "# [ output expression for iterator variable in iterable if predicate expression ]\n",
    "# Create a list of strings: fellowship\n",
    "fellowship = ['frodo', 'samwise', 'merry', 'aragorn', 'legolas', 'boromir', 'gimli']\n",
    "\n",
    "# Create list comprehension: new_fellowship\n",
    "new_fellowship = [member for member in fellowship if len(member) >= 7] #Uses if statement as a predicate\n",
    "\n",
    "# Create list comprehension: new_fellowship\n",
    "new_fellowship = [member if len(member) >= 7 else \"\" for member in fellowship] #Uses if-else statement on output expression\n",
    "\n"
   ]
  },
  {
   "cell_type": "code",
   "execution_count": null,
   "id": "ec57d406-6a77-43d1-b7a4-974cd3309781",
   "metadata": {},
   "outputs": [],
   "source": [
    "# DICT COMPREHENSION\n",
    "# Create a list of strings: fellowship\n",
    "fellowship = ['frodo', 'samwise', 'merry', 'aragorn', 'legolas', 'boromir', 'gimli']\n",
    "\n",
    "# Create dict comprehension: new_fellowship\n",
    "new_fellowship = {member: len(member) for member in fellowship}\n",
    "\n",
    "# Print the new dictionary\n",
    "print(new_fellowship)"
   ]
  },
  {
   "cell_type": "code",
   "execution_count": null,
   "id": "8ae184c3-e5d0-4059-af17-97682fd40699",
   "metadata": {},
   "outputs": [],
   "source": [
    "# Generator objects and generator functions\n",
    "#Generators create a generator object that can be iterated over\n",
    "\n",
    "# Create generator object: result\n",
    "result = (num for num in range(0, 31))\n",
    "\n",
    "# Print the first 2 values using next\n",
    "print(next(result))\n",
    "print(next(result))\n",
    "\n",
    "#Generator functions\n",
    "#Generator functions are functions that, like generator expressions, yield a series of values, \n",
    "#instead of returning a single value.\n"
   ]
  }
 ],
 "metadata": {
  "kernelspec": {
   "display_name": "Python 3 (ipykernel)",
   "language": "python",
   "name": "python3"
  },
  "language_info": {
   "codemirror_mode": {
    "name": "ipython",
    "version": 3
   },
   "file_extension": ".py",
   "mimetype": "text/x-python",
   "name": "python",
   "nbconvert_exporter": "python",
   "pygments_lexer": "ipython3",
   "version": "3.9.13"
  }
 },
 "nbformat": 4,
 "nbformat_minor": 5
}
