{
 "cells": [
  {
   "cell_type": "markdown",
   "id": "475ec35b-c147-4600-8eb0-9fec7d3a5788",
   "metadata": {},
   "source": [
    "# Part 2 ‐ Experiment and metrics design"
   ]
  },
  {
   "cell_type": "markdown",
   "id": "2b14f44a-f11d-4652-986e-55301e8d014f",
   "metadata": {},
   "source": [
    "#### 1) What would you choose as the key measure of success of this experiment in encouraging driver partners to serve both cities, and why would you choose this metric?"
   ]
  },
  {
   "cell_type": "markdown",
   "id": "5e8d8816-2bb6-46e5-b7ed-70add7d6546a",
   "metadata": {},
   "source": [
    "I would choose the number of toll bridge reimbursement requests (as a proxy for number of bridge crossings) as a metric for determining success for this experiment. Increased toll reimbursement requests indicates that drivers are using the toll bridge rather than remaining exclusively in one city. Therefore, a greater number of reimbursement requests indicates greater movement of driver partners between cities. <br>\n",
    " <br>\n",
    "Since both cities have a decent level of activity on weekends, driver partners might choose to remain in one city for the weekend. Therefore, choosing a period of time for the experiment that averages out the weekend effect would be beneficial -- namely, tracking reimbursement requests across at least several weeks or months. "
   ]
  },
  {
   "cell_type": "markdown",
   "id": "89a61d2a-1ce6-4d67-86bc-deb04350cf32",
   "metadata": {},
   "source": [
    "#### 2) Describe a practical experiment you would design to compare the effectiveness of the proposed change in relation to the key measure of success.\n",
    "a) how you will implement the experiment<br>\n",
    "b) what statistical test(s) you will conduct to verify the significance of the observation<br>\n",
    "c) how you would interpret the results and provide recommendations to the city operations team along with any caveats.<br>\n"
   ]
  },
  {
   "cell_type": "markdown",
   "id": "6133c5ab-8579-47f5-8764-9c01daaa5711",
   "metadata": {},
   "source": [
    "To compare the effectiveness of the proposed change -- namely, reimbursing all toll costs in order to encourage drivers to be available in both cities -- we would need to set up an experiment that allows us to compare driver availability in both cities both before and after the proposed change goes into effect. <br>\n",
    "\n",
    "To this end, we need a way to track movement between cities before the proposed change goes into effet. Presumably, we have access to driver license plates and could pull data on toll bridge usage for the months before the toll reimbursements initiative goes into effect. If we did not have access to this data, or to data showing which drivers picked up customers in each city, we could set up an experimental period of several months to track toll bridge usage before reimbursements are availabe. We would then track toll bridge usage for the same period of time after the reimbursements went into effect. Ideally, this time period would be at least several months, to give drivers time to get used to the new policy and change their patterns of behavior. For example, we could collect data for the 2 months prior to the proposed change, then allow 2-4 weeks to pass after the change before collecting another 2 months of data. <br>\n",
    "\n",
    "We would then conduct a two-tailed t-test on the total number of bridge crossings from before and after the change to determine if there was a significant increase in toll bridge crossings after the proposed change went into effect. This is a good test for determining whether there is a significant difference between two groups of data. <br>\n",
    "\n",
    "If the results showed a significant increase in bridge crossings after the proposed change went into effect, this would indicate that the proposed change was successful. Depending on the magnitude of the effect -- how much of a change between before and after -- we might need to suggest additional incentives (a montly bonus?) to encourage drivers to move between cities. Even if there were an increase in bridge crossings, it would be important to also examine the overall number of rides given per driver, to see whether this new policy was actually having an impact on driver availability for customers. If we did not see any change in the number of rides drivers provided per day, then we would need to reexamine our assumption that encouraging movement between cities is beneficial to customers. <br>\n",
    "\n",
    "\n"
   ]
  },
  {
   "cell_type": "code",
   "execution_count": null,
   "id": "e8e1a3d9-c557-4536-9b9a-bfa15862a9f4",
   "metadata": {},
   "outputs": [],
   "source": []
  }
 ],
 "metadata": {
  "kernelspec": {
   "display_name": "Python 3 (ipykernel)",
   "language": "python",
   "name": "python3"
  },
  "language_info": {
   "codemirror_mode": {
    "name": "ipython",
    "version": 3
   },
   "file_extension": ".py",
   "mimetype": "text/x-python",
   "name": "python",
   "nbconvert_exporter": "python",
   "pygments_lexer": "ipython3",
   "version": "3.11.3"
  }
 },
 "nbformat": 4,
 "nbformat_minor": 5
}
